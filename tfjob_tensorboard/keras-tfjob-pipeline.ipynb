{
 "cells": [
  {
   "cell_type": "code",
   "execution_count": null,
   "metadata": {},
   "outputs": [],
   "source": [
    "import kfp  # the Pipelines SDK. \n",
    "from kfp import compiler\n",
    "import kfp.dsl as dsl\n",
    "import kfp.gcp as gcp\n",
    "import kfp.components as comp"
   ]
  },
  {
   "cell_type": "code",
   "execution_count": null,
   "metadata": {},
   "outputs": [],
   "source": [
    "tb_op = comp.load_component_from_url(\n",
    "  'https://raw.githubusercontent.com/kubeflow/pipelines/master/components/tensorflow/tensorboard/prepare_tensorboard/component.yaml' \n",
    "  )\n",
    "train_op = comp.load_component_from_url(\n",
    "  'https://gitlab.cern.ch/ai-ml/examples/-/raw/master/tfjob_tensorboard/training_component/training_comp.yaml'\n",
    "  )\n",
    "serve_op = comp.load_component_from_url(\n",
    "  'https://gitlab.cern.ch/ai-ml/examples/-/raw/master/tfjob_tensorboard/serving_component/serving_comp.yaml'\n",
    "  )"
   ]
  },
  {
   "cell_type": "code",
   "execution_count": null,
   "metadata": {},
   "outputs": [],
   "source": [
    "@dsl.pipeline(\n",
    "  name='bikes_weather_metrics',\n",
    "  description='Model bike rental duration given weather'\n",
    ")\n",
    "def bikes_weather_metrics( \n",
    "    train_epochs: int = 2,\n",
    "    working_dir: str = 'gs://YOUR/GCS/PATH',  # for the full training jobs\n",
    "    data_dir: str = 'gs://aju-dev-demos-codelabs/bikes_weather/',\n",
    "    steps_per_epoch: int = 2 ,  # if -1, don't override normal calcs based on dataset size\n",
    "    hptune_params: str = '[{\"num_hidden_layers\": %s, \"learning_rate\": %s, \"hidden_size\": %s}]' % (3, 1e-2, 64),\n",
    "    thresholds: str = '{\"root_mean_squared_error\": 10000}'\n",
    "  ):\n",
    "\n",
    "    tb_viz = tb_op(\n",
    "        log_dir_uri='%s/%s' % (working_dir, dsl.RUN_ID_PLACEHOLDER)\n",
    "    )\n",
    "\n",
    "    train = train_op(\n",
    "        data_dir=data_dir,\n",
    "        workdir='%s/%s' % (tb_viz.outputs['log_dir_uri'], 0),\n",
    "        tb_dir=tb_viz.outputs['log_dir_uri'],\n",
    "        epochs=train_epochs, \n",
    "        steps_per_epoch=steps_per_epoch,\n",
    "        hp_idx=0, \n",
    "        hptune_results=hptune_params,\n",
    "        tfjob_image=\"gitlab-registry.cern.ch/ai-ml/kubeflow_images/training_tfjob:20\"\n",
    "    )\n",
    "\n",
    "    serve = serve_op(\n",
    "      model_path=train.outputs['train_output_path'],\n",
    "      model_name='bikesw'\n",
    "      )"
   ]
  },
  {
   "cell_type": "code",
   "execution_count": null,
   "metadata": {
    "tags": []
   },
   "outputs": [],
   "source": [
    "# CHANGE THIS with the info for your KFP cluster installation\n",
    "client = kfp.Client()\n",
    "\n",
    "exp = client.create_experiment(name='bw_expers')  # this is a 'get or create' call\n",
    "\n",
    "WORKING_DIR = 'gs://dejan_testing_bucket'\n",
    "TRAIN_EPOCHS = 2\n",
    "\n",
    "compiler.Compiler().compile(bikes_weather_metrics, 'bikes_weather_metrics.tar.gz')\n",
    "\n",
    "#client.upload_pipeline('bikes_weather_metrics.tar.gz', 'pip_bikes_dg_15', 'namespace: dejan-golubovic')\n",
    "\n",
    "run = client.run_pipeline(exp.id, 'bw_metrics_test', 'bikes_weather_metrics.tar.gz',\n",
    "                          params={'working_dir': WORKING_DIR, 'train_epochs': TRAIN_EPOCHS\n",
    "                                 # 'thresholds': THRESHOLDS\n",
    "                                 })"
   ]
  }
 ],
 "metadata": {
  "environment": {
   "name": "tf2-2-3-gpu.2-3.m56",
   "type": "gcloud",
   "uri": "gcr.io/deeplearning-platform-release/tf2-2-3-gpu.2-3:m56"
  },
  "kernelspec": {
   "display_name": "Python 3",
   "language": "python",
   "name": "python3"
  },
  "kubeflow_notebook": {
   "autosnapshot": false,
   "docker_image": "gitlab-registry.cern.ch/ai-ml/kubeflow_images/tensorflow-notebook-gpu-2.1.0:v0.6.1-30",
   "experiment": {
    "id": "",
    "name": ""
   },
   "experiment_name": "",
   "katib_metadata": {
    "algorithm": {
     "algorithmName": "grid"
    },
    "maxFailedTrialCount": 3,
    "maxTrialCount": 12,
    "objective": {
     "objectiveMetricName": "",
     "type": "minimize"
    },
    "parallelTrialCount": 3,
    "parameters": []
   },
   "katib_run": false,
   "pipeline_description": "",
   "pipeline_name": "",
   "snapshot_volumes": false,
   "steps_defaults": [],
   "volume_access_mode": "rwm",
   "volumes": []
  },
  "language_info": {
   "codemirror_mode": {
    "name": "ipython",
    "version": 3
   },
   "file_extension": ".py",
   "mimetype": "text/x-python",
   "name": "python",
   "nbconvert_exporter": "python",
   "pygments_lexer": "ipython3",
   "version": "3.6.9"
  }
 },
 "nbformat": 4,
 "nbformat_minor": 4
}
