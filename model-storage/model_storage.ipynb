{
 "cells": [
  {
   "cell_type": "markdown",
   "metadata": {
    "tags": []
   },
   "source": [
    "### Train a Model"
   ]
  },
  {
   "cell_type": "code",
   "execution_count": null,
   "metadata": {},
   "outputs": [],
   "source": [
    "import tensorflow as tf\n",
    "import numpy as np\n",
    "import os\n",
    "from kubeflow.metadata import metadata\n",
    "from uuid import uuid4\n",
    "from datetime import datetime\n",
    "\n",
    "nodes_number = 32\n",
    "learning_rate = 0.0001\n",
    "\n",
    "(x_train, y_train), (x_test, y_test) = tf.keras.datasets.mnist.load_data()\n",
    "x_train, x_test = x_train[..., np.newaxis]/255.0, x_test[..., np.newaxis]/255.0\n",
    "\n",
    "def filter_36(x, y):\n",
    "    keep = (y == 3) | (y == 6)\n",
    "    x, y = x[keep], y[keep]\n",
    "    y = y == 3\n",
    "    return x,y\n",
    "\n",
    "x_train, y_train = filter_36(x_train, y_train)\n",
    "x_test, y_test = filter_36(x_test, y_test)\n",
    "\n",
    "model = tf.keras.models.Sequential()\n",
    "model.add(tf.keras.layers.Conv2D(32, [3, 3], activation='relu', input_shape=(28,28,1)))\n",
    "model.add(tf.keras.layers.Conv2D(64, [3, 3], activation='relu'))\n",
    "model.add(tf.keras.layers.MaxPooling2D(pool_size=(2, 2)))\n",
    "model.add(tf.keras.layers.Dropout(0.25))\n",
    "model.add(tf.keras.layers.Flatten())\n",
    "model.add(tf.keras.layers.Dense(nodes_number, activation='relu'))\n",
    "model.add(tf.keras.layers.Dropout(0.5))\n",
    "model.add(tf.keras.layers.Dense(1))\n",
    "\n",
    "model.compile(loss='binary_crossentropy', optimizer=tf.keras.optimizers.Adam(learning_rate), metrics=['accuracy'])\n",
    "\n",
    "model.fit(x_train, y_train, batch_size=256, epochs=1, verbose=1, validation_data=(x_test, y_test))\n",
    "model_test_acc = model.evaluate(x_test, y_test)[1]"
   ]
  },
  {
   "cell_type": "markdown",
   "metadata": {
    "tags": []
   },
   "source": [
    "### Store model on EOS"
   ]
  },
  {
   "cell_type": "code",
   "execution_count": null,
   "metadata": {},
   "outputs": [],
   "source": [
    "# Edit code to add personal path\n",
    "user_path = '/eos/user/d/dgolubov/test_tf_model/model'\n",
    "model.save(user_path)"
   ]
  },
  {
   "cell_type": "markdown",
   "metadata": {
    "tags": []
   },
   "source": [
    "#### Initialize Metadata component"
   ]
  },
  {
   "cell_type": "code",
   "execution_count": null,
   "metadata": {
    "tags": []
   },
   "outputs": [],
   "source": [
    "METADATA_STORE_HOST = \"metadata-grpc-service.kubeflow\" # default DNS of Kubeflow Metadata gRPC serivce.\n",
    "METADATA_STORE_PORT = 8080\n",
    "\n",
    "ws1 = metadata.Workspace(\n",
    "    # Connect to metadata service in namespace kubeflow in k8s cluster.\n",
    "    store=metadata.Store(grpc_host=METADATA_STORE_HOST, grpc_port=METADATA_STORE_PORT),\n",
    "    name=\"workspace_1\",\n",
    "    description=\"a workspace for testing\",\n",
    "    labels={\"isTest\": \"yes\"})\n",
    "\n",
    "r = metadata.Run(\n",
    "    workspace=ws1,\n",
    "    name=\"run-\" + datetime.utcnow().isoformat(\"T\") ,\n",
    "    description=\"Test custom run\",\n",
    ")\n",
    "\n",
    "exec = metadata.Execution(\n",
    "    name = \"execution\" + datetime.utcnow().isoformat(\"T\") ,\n",
    "    workspace=ws1,\n",
    "    run=r,\n",
    "    description=\"execution example\",\n",
    ")\n",
    "print(\"An execution was created with id %s\" % exec.id)"
   ]
  },
  {
   "cell_type": "markdown",
   "metadata": {
    "tags": []
   },
   "source": [
    "#### Log Metadata info about the model stored on EOS"
   ]
  },
  {
   "cell_type": "code",
   "execution_count": null,
   "metadata": {},
   "outputs": [],
   "source": [
    "model_version = \"model_version_\" + str(uuid4())\n",
    "model_md = exec.log_output(\n",
    "    metadata.Model(\n",
    "            name=\"Custom mnist\",\n",
    "            description=\"model to differentiate 3 from 6, handwritten digits\",\n",
    "            owner=\"someone@kubeflow.org\",\n",
    "            uri=\"/eos/user/d/dgolubov/test_tf_model/model\",\n",
    "            model_type=\"neural network\",\n",
    "            training_framework={\n",
    "                \"name\": \"tensorflow\",\n",
    "                \"version\": \"v2.4\"\n",
    "            },\n",
    "            hyperparameters={\n",
    "                \"learning_rate\": 0.001,\n",
    "                \"nodes_number\": [32]\n",
    "            },\n",
    "            version=model_version,\n",
    "            labels={\"isTest\": \"yes\"}))\n",
    "print(model_md)"
   ]
  },
  {
   "cell_type": "markdown",
   "metadata": {
    "tags": []
   },
   "source": [
    "### Store model using in-cluster Minio object storage\n",
    "- More info on minio - https://docs.min.io/docs/python-client-quickstart-guide.html"
   ]
  },
  {
   "cell_type": "code",
   "execution_count": null,
   "metadata": {},
   "outputs": [],
   "source": [
    "# Store to a buckets\n",
    "from minio import Minio\n",
    "from minio.error import S3Error\n",
    "\n",
    "client = Minio('minio-service.kubeflow:9000',\n",
    "               access_key='minio',\n",
    "               secret_key='minio123',\n",
    "               secure=False)\n",
    "\n",
    "bucket_name = 'modelbucket'\n",
    "object_name = 'saved_model.pb'\n",
    "\n",
    "found_bucket = client.bucket_exists(bucket_name)\n",
    "if not found_bucket:\n",
    "    client.make_bucket(bucket_name)\n",
    "\n",
    "client.fput_object(bucket_name, object_name, user_path + '/saved_model.pb')\n",
    "\n",
    "# Download model from the bucket\n",
    "download_filepath = './downloaded.pb'\n",
    "client.fget_object(bucket_name, object_name, download_filepath)\n",
    "\n",
    "# List buckets\n",
    "buckets = client.list_buckets()\n",
    "for bucket in buckets:\n",
    "    print(bucket)\n",
    "    print(bucket.name, bucket.creation_date)"
   ]
  },
  {
   "cell_type": "markdown",
   "metadata": {
    "tags": []
   },
   "source": [
    "#### Log Metadata info about the model stored on minio bucket"
   ]
  },
  {
   "cell_type": "code",
   "execution_count": null,
   "metadata": {},
   "outputs": [],
   "source": [
    "#model_version = \"model_version_\" + str(uuid4())\n",
    "model_md = exec.log_output(\n",
    "    metadata.Model(\n",
    "            name=\"Custom mnist\",\n",
    "            description=\"model to differentiate 3 from 6, handwritten digits\",\n",
    "            owner=\"someone@kubeflow.org\",\n",
    "            uri=\"minio-service.kubeflow:9000/\" + bucket_name + \"/saved_model.pb\",\n",
    "            model_type=\"neural network\",\n",
    "            training_framework={\n",
    "                \"name\": \"tensorflow\",\n",
    "                \"version\": \"v2.4\"\n",
    "            },\n",
    "            hyperparameters={\n",
    "                \"learning_rate\": 0.001,\n",
    "                \"nodes_number\": [32]\n",
    "            },\n",
    "            version=model_version,\n",
    "            labels={\"isTest\": \"yes\"}))\n",
    "print(model_md)"
   ]
  },
  {
   "cell_type": "markdown",
   "metadata": {
    "tags": []
   },
   "source": [
    "### Store model on s3.cern.ch centralized object storage\n",
    "\n",
    "- To use this, please make sure you have access to a bucket on s3.cern.ch\n",
    "- Credentials should be stored in ~/.aws/credentials\n",
    "- Bucket needs to have writing permissions\n",
    "- More info: https://clouddocs.web.cern.ch/object_store/README.html\n",
    "- If not, it is likely to get error: Unable to locate credentials"
   ]
  },
  {
   "cell_type": "code",
   "execution_count": null,
   "metadata": {},
   "outputs": [],
   "source": [
    "import boto3\n",
    "\n",
    "bucket_name = 'test_bucket'\n",
    "client = boto3.client('s3', endpoint_url='https://s3.cern.ch')\n",
    "client.upload_file(user_path + '/saved_model.pb', bucket_name, 'saved_model.pb')"
   ]
  },
  {
   "cell_type": "markdown",
   "metadata": {
    "tags": []
   },
   "source": [
    "#### Log Metadata info about the model stored on s3.cern.ch bucket"
   ]
  },
  {
   "cell_type": "code",
   "execution_count": null,
   "metadata": {},
   "outputs": [],
   "source": [
    "#model_version = \"model_version_\" + str(uuid4())\n",
    "model_md = exec.log_output(\n",
    "    metadata.Model(\n",
    "            name=\"Custom mnist\",\n",
    "            description=\"model to differentiate 3 from 6, handwritten digits\",\n",
    "            owner=\"someone@kubeflow.org\",\n",
    "            uri=\"s3.cern.ch/\" + bucket_name + \"/saved_model.pb\",\n",
    "            model_type=\"neural network\",\n",
    "            training_framework={\n",
    "                \"name\": \"tensorflow\",\n",
    "                \"version\": \"v2.4\"\n",
    "            },\n",
    "            hyperparameters={\n",
    "                \"learning_rate\": 0.001,\n",
    "                \"nodes_number\": [32]\n",
    "            },\n",
    "            version=model_version,\n",
    "            labels={\"isTest\": \"yes\"}))\n",
    "print(model_md)"
   ]
  },
  {
   "cell_type": "markdown",
   "metadata": {
    "tags": []
   },
   "source": [
    "### Store model on registry.cern.ch, CERN OCI registry\n",
    "- Login at registry.cern.ch\n",
    "- Create a project with a custom PROJECT_NAME\n",
    "- At top right corner, click on username\n",
    "- Select User Profile\n",
    "- Copy CLI secret\n",
    "- In this Notebook server, open new Terminal window\n",
    "- cd /ormb\n",
    "- ./bin/ormb login registry.cern.ch -u USERNAME\n",
    "- Paste copied CLI secret\n",
    "- Make sure model directory structure corresponds to requirements\n",
    "    - https://github.com/kleveross/ormb/blob/master/docs/tutorial.md\n",
    "- In the folder where the saved model is located, create ormbfile.yaml\n",
    "    - https://github.com/kleveross/ormb/blob/master/examples/SavedModel-fashion/ormbfile.yaml\n",
    "- ./bin/ormb save /eos/user/LETTER/USERNAME/test_tf_model registry.cern.ch/PROJECT_NAME/test_tf_model:v1\n",
    "- ./bin/ormb push registry.cern.ch/PROJECT_NAME/test_tf_model:v1\n",
    "- At registry.cern.ch check the status of the uploaded model"
   ]
  },
  {
   "cell_type": "markdown",
   "metadata": {
    "tags": []
   },
   "source": [
    "### Model Basic Lineage Tracking\n",
    "\n",
    "To see the full list of artifacts, navigate to:\n",
    "https://ml-staging.cern.ch/_/metadata/#/artifacts "
   ]
  },
  {
   "cell_type": "code",
   "execution_count": null,
   "metadata": {},
   "outputs": [],
   "source": [
    "print(\"Model id is %s\\n\" % model_md.id)\n",
    "    \n",
    "model_events = ws1.store.get_events_by_artifact_ids([model_md.id])\n",
    "\n",
    "execution_ids = set(e.execution_id for e in model_events)\n",
    "print(\"All executions related to the model are {}\".format(execution_ids))\n",
    "# assert execution_ids == set([serving_application.id, exec.id])\n",
    "\n",
    "trainer_events = ws1.store.get_events_by_execution_ids([exec.id])\n",
    "artifact_ids = set(e.artifact_id for e in trainer_events)\n",
    "print(\"All artifacts related to the training event are {}\".format(artifact_ids))# assert artifact_ids == set([model.id, metrics.id, data_set.id])"
   ]
  },
  {
   "cell_type": "code",
   "execution_count": null,
   "metadata": {},
   "outputs": [],
   "source": []
  }
 ],
 "metadata": {
  "kernelspec": {
   "display_name": "Python 3",
   "language": "python",
   "name": "python3"
  },
  "kubeflow_notebook": {
   "autosnapshot": false,
   "docker_image": "gitlab-registry.cern.ch/ai-ml/images/tensorflow-2.4.0-notebook-gpu:v4",
   "experiment": {
    "id": "",
    "name": ""
   },
   "experiment_name": "",
   "katib_metadata": {
    "algorithm": {
     "algorithmName": "grid"
    },
    "maxFailedTrialCount": 3,
    "maxTrialCount": 12,
    "objective": {
     "objectiveMetricName": "",
     "type": "minimize"
    },
    "parallelTrialCount": 3,
    "parameters": []
   },
   "katib_run": false,
   "pipeline_description": "",
   "pipeline_name": "",
   "snapshot_volumes": false,
   "steps_defaults": [],
   "volumes": []
  },
  "language_info": {
   "codemirror_mode": {
    "name": "ipython",
    "version": 3
   },
   "file_extension": ".py",
   "mimetype": "text/x-python",
   "name": "python",
   "nbconvert_exporter": "python",
   "pygments_lexer": "ipython3",
   "version": "3.6.9"
  }
 },
 "nbformat": 4,
 "nbformat_minor": 4
}
