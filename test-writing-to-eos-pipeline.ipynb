{
 "cells": [
  {
   "cell_type": "code",
   "execution_count": null,
   "metadata": {
    "tags": [
     "imports"
    ]
   },
   "outputs": [],
   "source": [
    "import os"
   ]
  },
  {
   "cell_type": "code",
   "execution_count": null,
   "metadata": {
    "tags": [
     "functions"
    ]
   },
   "outputs": [],
   "source": [
    "def setup_krb():\n",
    "    krb_cred = ***\n",
    "    with open('/tmp/krb5cc_0', 'wb') as to_write:\n",
    "        to_write.write(krb_cred)\n",
    "    os.chmod(\"/tmp/krb5cc_0\", 0o600)\n",
    "    os.system('klist')"
   ]
  },
  {
   "cell_type": "code",
   "execution_count": null,
   "metadata": {
    "tags": [
     "block:list_eos"
    ]
   },
   "outputs": [],
   "source": [
    "setup_krb()\n",
    "print('eos')\n",
    "print(os.listdir(\"/eos\"))\n",
    "print('/eos/user/d/dgolubov')\n",
    "print(os.listdir('/eos/user/d/dgolubov'))"
   ]
  },
  {
   "cell_type": "code",
   "execution_count": null,
   "metadata": {
    "tags": [
     "block:write_to_eos",
     "prev:list_eos"
    ]
   },
   "outputs": [],
   "source": [
    "setup_krb()\n",
    "with open('/eos/user/d/dgolubov/pipeline_file.txt', 'w') as to_write:\n",
    "    to_write.write('Testing Dejan')\n",
    "\n",
    "with open('/eos/user/d/dgolubov/pipeline_file.txt', 'r') as to_read:\n",
    "    print(to_read.read())"
   ]
  }
 ],
 "metadata": {
  "kernelspec": {
   "display_name": "Python 3",
   "language": "python",
   "name": "python3"
  },
  "kubeflow_notebook": {
   "docker_image": "gitlab-registry.cern.ch/ai-ml/images/kale-custom",
   "experiment": {
    "id": "new",
    "name": "dejan"
   },
   "experiment_name": "dejan",
   "katib_metadata": {
    "algorithm": {
     "algorithmName": "grid"
    },
    "maxFailedTrialCount": 3,
    "maxTrialCount": 12,
    "objective": {
     "objectiveMetricName": "",
     "type": "minimize"
    },
    "parallelTrialCount": 3,
    "parameters": []
   },
   "katib_run": false,
   "pipeline_description": "testing writing to eos",
   "pipeline_name": "dejanexperiment",
   "volumes": [
    {
     "annotations": [],
     "mount_point": "/eos",
     "name": "eos",
     "size": 1,
     "size_type": "Gi",
     "snapshot": false,
     "snapshot_name": "",
     "type": "pvc"
    }
   ]
  },
  "language_info": {
   "codemirror_mode": {
    "name": "ipython",
    "version": 3
   },
   "file_extension": ".py",
   "mimetype": "text/x-python",
   "name": "python",
   "nbconvert_exporter": "python",
   "pygments_lexer": "ipython3",
   "version": "3.6.9"
  }
 },
 "nbformat": 4,
 "nbformat_minor": 4
}
