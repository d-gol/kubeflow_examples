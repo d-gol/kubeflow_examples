{
 "cells": [
  {
   "cell_type": "code",
   "execution_count": 7,
   "metadata": {
    "tags": [
     "block:preprocess_data",
     "prev:read_data"
    ]
   },
   "outputs": [],
   "source": [
    "import tensorflow as tf\n",
    "import numpy as np\n",
    "import os"
   ]
  },
  {
   "cell_type": "code",
   "execution_count": 7,
   "metadata": {
    "tags": [
     "block:preprocess_data",
     "prev:read_data"
    ]
   },
   "outputs": [],
   "source": [
    "def filter_36(x, y):\n",
    "    keep = (y == 3) | (y == 6)\n",
    "    x, y = x[keep], y[keep]\n",
    "    y = y == 3\n",
    "    return x,y"
   ]
  },
  {
   "cell_type": "code",
   "execution_count": 7,
   "metadata": {
    "tags": [
     "block:preprocess_data",
     "prev:read_data"
    ]
   },
   "outputs": [
    {
     "name": "stdout",
     "output_type": "stream",
     "text": [
      "Number of unfiltered training examples: 60000\n",
      "Number of unfiltered test examples: 10000\n",
      "Number of filtered training examples: 12049\n",
      "Number of filtered test examples: 1968\n"
     ]
    }
   ],
   "source": [
    "x_train = np.load('xtrain.npy')\n",
    "y_train = np.load('ytrain.npy')\n",
    "\n",
    "x_test = np.load('xtest.npy')\n",
    "y_test = np.load('ytest.npy')\n",
    "\n",
    "print(\"Number of unfiltered training examples:\", len(x_train))\n",
    "print(\"Number of unfiltered test examples:\", len(x_test))\n",
    "\n",
    "x_train, y_train = filter_36(x_train, y_train)\n",
    "x_test, y_test = filter_36(x_test, y_test)\n",
    "\n",
    "print(\"Number of filtered training examples:\", len(x_train))\n",
    "print(\"Number of filtered test examples:\", len(x_test))"
   ]
  },
  {
   "cell_type": "code",
   "execution_count": null,
   "metadata": {},
   "outputs": [],
   "source": [
    "np.save('xtrain_filtered.npy', x_train)\n",
    "np.save('ytrain_filtered.npy', y_train)\n",
    "\n",
    "np.save('xtest_filtered.npy', x_test)\n",
    "np.save('ytest_filtered.npy', y_test)"
   ]
  }
 ],
 "metadata": {
  "kernelspec": {
   "display_name": "Python 3",
   "language": "python",
   "name": "python3"
  },
  "kubeflow_notebook": {
   "docker_image": "registry.hub.docker.com/dejangolubovic/kale-custom:latest",
   "experiment": {
    "id": "new",
    "name": "mnist-demo-katib"
   },
   "experiment_name": "mnist-demo-katib",
   "katib_metadata": {
    "algorithm": {
     "algorithmName": "grid"
    },
    "maxFailedTrialCount": 1,
    "maxTrialCount": 4,
    "objective": {
     "additionalMetricNames": [],
     "goal": 0.99,
     "objectiveMetricName": "test-acc",
     "type": "maximize"
    },
    "parallelTrialCount": 1,
    "parameters": [
     {
      "feasibleSpace": {
       "list": [
        "32",
        "64",
        "256",
        "1024"
       ]
      },
      "name": "nodes_number",
      "parameterType": "categorical"
     },
     {
      "feasibleSpace": {
       "list": [
        "0.001",
        "0.01",
        "0.1"
       ]
      },
      "name": "learning_rate",
      "parameterType": "categorical"
     }
    ]
   },
   "katib_run": true,
   "pipeline_description": "mnist-demo-katib",
   "pipeline_name": "mnist-demo-katib",
   "volumes": []
  },
  "language_info": {
   "codemirror_mode": {
    "name": "ipython",
    "version": 3
   },
   "file_extension": ".py",
   "mimetype": "text/x-python",
   "name": "python",
   "nbconvert_exporter": "python",
   "pygments_lexer": "ipython3",
   "version": "3.7.4"
  }
 },
 "nbformat": 4,
 "nbformat_minor": 4
}
