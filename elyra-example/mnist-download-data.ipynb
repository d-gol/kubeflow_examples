{
 "cells": [
  {
   "cell_type": "code",
   "execution_count": 6,
   "metadata": {
    "tags": [
     "block:read_data"
    ]
   },
   "outputs": [
    {
     "name": "stdout",
     "output_type": "stream",
     "text": [
      "Downloading data from https://s3.amazonaws.com/img-datasets/mnist.npz\n"
     ]
    }
   ],
   "source": [
    "import tensorflow as tf\n",
    "import numpy as np\n",
    "import os\n",
    "\n",
    "(x_train, y_train), (x_test, y_test) = tf.keras.datasets.mnist.load_data()\n",
    "x_train, x_test = x_train[..., np.newaxis]/255.0, x_test[..., np.newaxis]/255.0"
   ]
  },
  {
   "cell_type": "code",
   "execution_count": null,
   "metadata": {},
   "outputs": [],
   "source": [
    "np.save('xtrain.npy', x_train)\n",
    "np.save('ytrain.npy', y_train)\n",
    "np.save('xtest.npy', x_test)\n",
    "np.save('ytest.npy', y_test)"
   ]
  }
 ],
 "metadata": {
  "kernelspec": {
   "display_name": "Python 3",
   "language": "python",
   "name": "python3"
  },
  "kubeflow_notebook": {
   "docker_image": "registry.hub.docker.com/dejangolubovic/kale-custom:latest",
   "experiment": {
    "id": "new",
    "name": "mnist-demo-katib"
   },
   "experiment_name": "mnist-demo-katib",
   "katib_metadata": {
    "algorithm": {
     "algorithmName": "grid"
    },
    "maxFailedTrialCount": 1,
    "maxTrialCount": 4,
    "objective": {
     "additionalMetricNames": [],
     "goal": 0.99,
     "objectiveMetricName": "test-acc",
     "type": "maximize"
    },
    "parallelTrialCount": 1,
    "parameters": [
     {
      "feasibleSpace": {
       "list": [
        "32",
        "64",
        "256",
        "1024"
       ]
      },
      "name": "nodes_number",
      "parameterType": "categorical"
     },
     {
      "feasibleSpace": {
       "list": [
        "0.001",
        "0.01",
        "0.1"
       ]
      },
      "name": "learning_rate",
      "parameterType": "categorical"
     }
    ]
   },
   "katib_run": true,
   "pipeline_description": "mnist-demo-katib",
   "pipeline_name": "mnist-demo-katib",
   "volumes": []
  },
  "language_info": {
   "codemirror_mode": {
    "name": "ipython",
    "version": 3
   },
   "file_extension": ".py",
   "mimetype": "text/x-python",
   "name": "python",
   "nbconvert_exporter": "python",
   "pygments_lexer": "ipython3",
   "version": "3.7.4"
  }
 },
 "nbformat": 4,
 "nbformat_minor": 4
}
