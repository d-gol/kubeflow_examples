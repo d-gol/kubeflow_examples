{
 "cells": [
  {
   "cell_type": "markdown",
   "metadata": {
    "tags": []
   },
   "source": [
    "### Setup Docker registry credentials for Kubernetes configmap"
   ]
  },
  {
   "cell_type": "code",
   "execution_count": null,
   "metadata": {},
   "outputs": [],
   "source": [
    "import json\n",
    "import os\n",
    "import subprocess\n",
    "\n",
    "DOCKER_REGISTRY = 'index.docker.io/dejangolubovic'\n",
    "\n",
    "docker_config = {\n",
    "        \"auths\": {\n",
    "                \"https://index.docker.io/v1/\": {\n",
    "                        \"username\": \"username\",\n",
    "                        \"auth\": \"echo -n 'username:password' | base64\"}\n",
    "        },\n",
    "        \"HttpHeaders\": {\n",
    "                \"User-Agent\": \"Docker-Client/19.03.12 (linux)\"\n",
    "        }\n",
    "}\n",
    "\n",
    "with open('docker_config.json', 'w') as f:\n",
    "    json.dump(docker_config, f)\n",
    "\n",
    "docker_config_output = subprocess.check_output([\"kubectl\", \"create\", \"configmap\", \n",
    "                        \"docker-config\", \"--from-file=docker-config.json\"])\n",
    "print(docker_config_output.decode('utf-8'))"
   ]
  },
  {
   "cell_type": "markdown",
   "metadata": {
    "tags": []
   },
   "source": [
    "### Create a Persistent Volume Claim (PVC) to store the model"
   ]
  },
  {
   "cell_type": "code",
   "execution_count": null,
   "metadata": {},
   "outputs": [],
   "source": [
    "pvc_output = subprocess.check_output([\"kubectl\", \"apply\", \"-f\", \"fairing-pvc.yaml\"])\n",
    "print(pvc_output.decode('utf-8'))\n",
    "\n",
    "pvc_name = subprocess.check_output([\"kubectl\", \"get\", \"pvc\", \"fairing-pvc\", \\\n",
    "                         \"-o=jsonpath='{.metadata.name}\"]).decode(\"utf-8\")[1:]\n",
    "pv_name = subprocess.check_output([\"kubectl\", \"get\", \"pvc\", \"fairing-pvc\", \\\n",
    "                         \"-o=jsonpath='{.spec.volumeName}\"]).decode(\"utf-8\")[1:]\n",
    "print('pvc_name:', pvc_name)\n",
    "print('pv_name:', pv_name)"
   ]
  },
  {
   "cell_type": "markdown",
   "metadata": {
    "tags": []
   },
   "source": [
    "### Setup model training using Kubeflow Fairing and TFJob"
   ]
  },
  {
   "cell_type": "code",
   "execution_count": null,
   "metadata": {},
   "outputs": [],
   "source": [
    "num_chief = 1 # number of Chief workers in TFJob \n",
    "num_ps = 1  # number of Parameter Servers in TFJob \n",
    "num_workers = 2  # number of Workers in TFJob \n",
    "model_dir = \"/mnt\"\n",
    "export_path = \"/mnt/export\" \n",
    "train_steps = \"1000\"\n",
    "batch_size = \"100\"\n",
    "learning_rate = \"0.01\""
   ]
  },
  {
   "cell_type": "code",
   "execution_count": null,
   "metadata": {
    "tags": []
   },
   "outputs": [],
   "source": [
    "import uuid\n",
    "from kubeflow import fairing   \n",
    "from kubeflow.fairing.kubernetes.utils import mounting_pvc\n",
    "from kubeflow.fairing.builders.cluster.minio_context import MinioContextSource\n",
    "import kfp\n",
    "\n",
    "tfjob_name = f'mnist-training-{uuid.uuid4().hex[:4]}'\n",
    "tfjob_namespace = kfp.Client().get_user_namespace()\n",
    "print(tfjob_name)\n",
    "print(tfjob_namespace)\n",
    "\n",
    "output_map =  {\n",
    "    \"Dockerfile\": \"Dockerfile\",\n",
    "    \"mnist.py\": \"mnist.py\"\n",
    "}\n",
    "\n",
    "context_source = ''\n",
    "\n",
    "command=[\"python\",\n",
    "         \"/opt/mnist.py\",\n",
    "         \"--tf-model-dir=\" + model_dir,\n",
    "         \"--tf-export-dir=\" + export_path,\n",
    "         \"--tf-train-steps=\" + train_steps,\n",
    "         \"--tf-batch-size=\" + batch_size,\n",
    "         \"--tf-learning-rate=\" + learning_rate]\n",
    "\n",
    "minio_context_source = MinioContextSource(\n",
    "            endpoint_url='http://minio-service.kubeflow:9000/',\n",
    "            minio_secret='minio',\n",
    "            minio_secret_key='minio123',#\n",
    "            region_name='region')\n",
    "\n",
    "fairing.config.set_preprocessor('python', \n",
    "                                command=command, \n",
    "                                path_prefix=\"/app\", \n",
    "                                output_map=output_map)\n",
    "\n",
    "fairing.config.set_builder(\n",
    "    name='cluster', \n",
    "    registry=DOCKER_REGISTRY, \n",
    "    context_source=minio_context_source, \n",
    "    cleanup=True,\n",
    "    pod_spec_mutators=[mounting_pvc(pvc_name=pvc_name, pvc_mount_path=model_dir)]\n",
    ")\n",
    "\n",
    "fairing.config.set_deployer(\n",
    "    name='tfjob',\n",
    "    namespace=tfjob_namespace,\n",
    "    stream_log=False, \n",
    "    job_name=tfjob_name,\n",
    "    chief_count=num_chief,\n",
    "    worker_count=num_workers,\n",
    "    ps_count=num_ps, \n",
    "    pod_spec_mutators=[mounting_pvc(pvc_name=pvc_name, pvc_mount_path=model_dir)]\n",
    ")"
   ]
  },
  {
   "cell_type": "markdown",
   "metadata": {
    "tags": []
   },
   "source": [
    "### Start training job"
   ]
  },
  {
   "cell_type": "code",
   "execution_count": null,
   "metadata": {},
   "outputs": [],
   "source": [
    "fairing.config.run()"
   ]
  },
  {
   "cell_type": "markdown",
   "metadata": {
    "tags": []
   },
   "source": [
    "### Inspect the running training job"
   ]
  },
  {
   "cell_type": "code",
   "execution_count": null,
   "metadata": {},
   "outputs": [],
   "source": [
    "from kubeflow.tfjob import TFJobClient\n",
    "tfjob_client = TFJobClient()\n",
    "\n",
    "#tfjob_client.get(tfjob_name, namespace=tfjob_namespace)"
   ]
  },
  {
   "cell_type": "code",
   "execution_count": null,
   "metadata": {},
   "outputs": [],
   "source": [
    "tfjob_client.wait_for_job(tfjob_name, namespace=tfjob_namespace, watch=True)"
   ]
  },
  {
   "cell_type": "code",
   "execution_count": null,
   "metadata": {},
   "outputs": [],
   "source": [
    "tfjob_client.is_job_succeeded(tfjob_name, namespace=tfjob_namespace)"
   ]
  },
  {
   "cell_type": "code",
   "execution_count": null,
   "metadata": {},
   "outputs": [],
   "source": [
    "#tfjob_client.get_logs(tfjob_name, namespace=tfjob_namespace)"
   ]
  },
  {
   "cell_type": "markdown",
   "metadata": {
    "tags": []
   },
   "source": [
    "### Serve the trained model"
   ]
  },
  {
   "cell_type": "code",
   "execution_count": null,
   "metadata": {},
   "outputs": [],
   "source": [
    "from kubeflow.fairing.deployers.kfserving.kfserving import KFServing\n",
    "\n",
    "isvc_name = f'dejan-mnist-service-{uuid.uuid4().hex[:4]}'\n",
    "print(isvc_name)\n",
    "isvc = KFServing('tensorflow',\n",
    "                 namespace=tfjob_namespace,\n",
    "                 isvc_name=isvc_name,\n",
    "                 default_storage_uri='pvc://' + pvc_name + '/export')\n",
    "isvc.deploy(isvc.generate_isvc())"
   ]
  },
  {
   "cell_type": "code",
   "execution_count": null,
   "metadata": {},
   "outputs": [],
   "source": [
    "from kfserving import KFServingClient\n",
    "\n",
    "kfserving_client = KFServingClient()\n",
    "mnist_isvc = kfserving_client.get(isvc_name, namespace=tfjob_namespace)\n",
    "mnist_isvc_name = mnist_isvc['metadata']['name']\n",
    "mnist_isvc_endpoint = mnist_isvc['status'].get('url', '')\n",
    "\n",
    "print(\"MNIST Service Endpoint: \" + mnist_isvc_endpoint)"
   ]
  },
  {
   "cell_type": "code",
   "execution_count": null,
   "metadata": {},
   "outputs": [],
   "source": [
    "MODEL_HOST = f\"Host: {mnist_isvc_name}-predictor-default.{tfjob_namespace}.example.com\"\n",
    "MODEL_URL = f\"http://ml.cern.ch/v1/models/{mnist_isvc_name}:predict\"\n",
    "print(MODEL_HOST)\n",
    "print(MODEL_URL)\n",
    "\n",
    "!curl -v -H \"{MODEL_HOST}\" {MODEL_URL} -d @./input.json"
   ]
  },
  {
   "cell_type": "markdown",
   "metadata": {
    "tags": []
   },
   "source": [
    "### Delete training job and inference service"
   ]
  },
  {
   "cell_type": "code",
   "execution_count": null,
   "metadata": {},
   "outputs": [],
   "source": [
    "tfjob_client.delete(tfjob_name, namespace=tfjob_namespace)"
   ]
  },
  {
   "cell_type": "code",
   "execution_count": null,
   "metadata": {},
   "outputs": [],
   "source": [
    "kfserving_client.delete(isvc_name, namespace=tfjob_namespace)"
   ]
  },
  {
   "cell_type": "code",
   "execution_count": null,
   "metadata": {},
   "outputs": [],
   "source": []
  }
 ],
 "metadata": {
  "kernelspec": {
   "display_name": "Python 3",
   "language": "python",
   "name": "python3"
  },
  "kubeflow_notebook": {
   "autosnapshot": false,
   "docker_image": "gitlab-registry.cern.ch/ai-ml/images/tensorflow-2.1.0-notebook-gpu:1.0.0-2",
   "experiment": {
    "id": "",
    "name": ""
   },
   "experiment_name": "",
   "katib_metadata": {
    "algorithm": {
     "algorithmName": "grid"
    },
    "maxFailedTrialCount": 3,
    "maxTrialCount": 12,
    "objective": {
     "objectiveMetricName": "",
     "type": "minimize"
    },
    "parallelTrialCount": 3,
    "parameters": []
   },
   "katib_run": false,
   "pipeline_description": "",
   "pipeline_name": "",
   "snapshot_volumes": false,
   "steps_defaults": [],
   "volumes": []
  },
  "language_info": {
   "codemirror_mode": {
    "name": "ipython",
    "version": 3
   },
   "file_extension": ".py",
   "mimetype": "text/x-python",
   "name": "python",
   "nbconvert_exporter": "python",
   "pygments_lexer": "ipython3",
   "version": "3.6.9"
  }
 },
 "nbformat": 4,
 "nbformat_minor": 4
}
