{
 "cells": [
  {
   "cell_type": "code",
   "execution_count": 16,
   "metadata": {},
   "outputs": [],
   "source": [
    "DOCKER_REGISTRY = 'index.docker.io/dejangolubovic'\n",
    "my_namespace = 'dejan-golubovic'"
   ]
  },
  {
   "cell_type": "code",
   "execution_count": 17,
   "metadata": {},
   "outputs": [],
   "source": [
    "num_chief = 1 #number of Chief in TFJob \n",
    "num_ps = 1  #number of PS in TFJob \n",
    "num_workers = 2  #number of Worker in TFJob \n",
    "model_dir = \"/mnt\"\n",
    "export_path = \"/mnt/export\" \n",
    "train_steps = \"1000\"\n",
    "batch_size = \"100\"\n",
    "learning_rate = \"0.01\"\n",
    "pv_name = 'pvc-f8cc766b-aef7-4456-99bb-8c99621094af'\n",
    "pvc_name = 'dejan-fairing-pvc-2'"
   ]
  },
  {
   "cell_type": "code",
   "execution_count": 18,
   "metadata": {},
   "outputs": [
    {
     "name": "stderr",
     "output_type": "stream",
     "text": [
      "[W 201016 11:57:45 utils:51] The function mounting_pvc has been deprecated,                     please use `volume_mounts`\n",
      "[W 201016 11:57:45 utils:51] The function mounting_pvc has been deprecated,                     please use `volume_mounts`\n",
      "[I 201016 11:57:45 config:134] Using preprocessor: <kubeflow.fairing.preprocessors.base.BasePreProcessor object at 0x7f6f0440a160>\n",
      "[I 201016 11:57:45 config:136] Using builder: <kubeflow.fairing.builders.cluster.cluster.ClusterBuilder object at 0x7f6f0440a550>\n",
      "[I 201016 11:57:45 config:138] Using deployer: <kubeflow.fairing.deployers.tfjob.tfjob.TfJob object at 0x7f6f04147ef0>\n",
      "[I 201016 11:57:45 cluster:46] Building image using cluster builder.\n",
      "[I 201016 11:57:45 base:107] Creating docker context: /tmp/fairing_context_6g4onakg\n",
      "[W 201016 11:57:45 base:94] /tmp/fairing_dockerfile_n0wukmgj already exists in Fairing context, skipping...\n"
     ]
    },
    {
     "name": "stdout",
     "output_type": "stream",
     "text": [
      "mnist-training-a212\n"
     ]
    },
    {
     "name": "stderr",
     "output_type": "stream",
     "text": [
      "[W 201016 11:57:45 manager:298] Waiting for fairing-builder-qn754-d8rjt to start...\n",
      "[W 201016 11:57:45 manager:298] Waiting for fairing-builder-qn754-d8rjt to start...\n",
      "[W 201016 11:57:45 manager:298] Waiting for fairing-builder-qn754-d8rjt to start...\n",
      "[I 201016 11:58:04 manager:304] Pod started running True\n"
     ]
    },
    {
     "name": "stdout",
     "output_type": "stream",
     "text": [
      "\u001b[36mINFO\u001b[0m[0001] Retrieving image manifest tensorflow/tensorflow:1.15.2-py3\n",
      "\u001b[36mINFO\u001b[0m[0003] Retrieving image manifest tensorflow/tensorflow:1.15.2-py3\n",
      "\u001b[36mINFO\u001b[0m[0004] Built cross stage deps: map[]\n",
      "\u001b[36mINFO\u001b[0m[0004] Retrieving image manifest tensorflow/tensorflow:1.15.2-py3\n",
      "\u001b[36mINFO\u001b[0m[0005] Retrieving image manifest tensorflow/tensorflow:1.15.2-py3\n",
      "\u001b[36mINFO\u001b[0m[0005] Executing 0 build triggers\n",
      "\u001b[36mINFO\u001b[0m[0005] Unpacking rootfs as cmd ADD mnist.py /opt/mnist.py requires it.\n",
      "\u001b[36mINFO\u001b[0m[0025] Taking snapshot of full filesystem...\n",
      "\u001b[36mINFO\u001b[0m[0028] Resolving 27181 paths\n",
      "\u001b[36mINFO\u001b[0m[0032] Using files from context: [/kaniko/buildcontext/mnist.py]\n",
      "\u001b[36mINFO\u001b[0m[0032] ADD mnist.py /opt/mnist.py\n",
      "\u001b[36mINFO\u001b[0m[0032] RUN chmod +x /opt/mnist.py\n",
      "\u001b[36mINFO\u001b[0m[0032] cmd: /bin/sh\n",
      "\u001b[36mINFO\u001b[0m[0032] args: [-c chmod +x /opt/mnist.py]\n",
      "\u001b[36mINFO\u001b[0m[0032] Running: [/bin/sh -c chmod +x /opt/mnist.py]\n",
      "\u001b[36mINFO\u001b[0m[0032] ENTRYPOINT [\"/usr/bin/python\"]\n",
      "\u001b[36mINFO\u001b[0m[0032] CMD [\"/opt/mnist.py\"]\n",
      "\u001b[36mINFO\u001b[0m[0032] Taking snapshot of full filesystem...\n",
      "\u001b[36mINFO\u001b[0m[0032] Resolving 27182 paths\n"
     ]
    },
    {
     "name": "stderr",
     "output_type": "stream",
     "text": [
      "[W 201016 11:58:44 cluster:106] Cleaning up job fairing-builder-qn754...\n",
      "[W 201016 11:58:44 job:101] The tfjob mnist-training-a212 launched.\n"
     ]
    },
    {
     "data": {
      "text/plain": [
       "(<kubeflow.fairing.preprocessors.base.BasePreProcessor at 0x7f6f0440a160>,\n",
       " <kubeflow.fairing.builders.cluster.cluster.ClusterBuilder at 0x7f6f0440a550>,\n",
       " <kubeflow.fairing.deployers.tfjob.tfjob.TfJob at 0x7f6f04147ef0>)"
      ]
     },
     "execution_count": 18,
     "metadata": {},
     "output_type": "execute_result"
    }
   ],
   "source": [
    "import uuid\n",
    "from kubeflow import fairing   \n",
    "from kubeflow.fairing.kubernetes.utils import mounting_pvc\n",
    "from kubeflow.fairing.builders.cluster.minio_context import MinioContextSource\n",
    "\n",
    "tfjob_name = f'mnist-training-{uuid.uuid4().hex[:4]}'\n",
    "print(tfjob_name)\n",
    "output_map =  {\n",
    "    \"Dockerfile\": \"Dockerfile\",\n",
    "    \"mnist.py\": \"mnist.py\"\n",
    "}\n",
    "\n",
    "context_source = ''\n",
    "\n",
    "command=[\"python\",\n",
    "         \"/opt/mnist.py\",\n",
    "         \"--tf-model-dir=\" + model_dir,\n",
    "         \"--tf-export-dir=\" + export_path,\n",
    "         \"--tf-train-steps=\" + train_steps,\n",
    "         \"--tf-batch-size=\" + batch_size,\n",
    "         \"--tf-learning-rate=\" + learning_rate]\n",
    "\n",
    "minio_context_source = MinioContextSource(\n",
    "            endpoint_url='http://minio-service.kubeflow:9000/',\n",
    "            minio_secret='minio',\n",
    "            minio_secret_key='minio123',#\n",
    "            region_name='region')\n",
    "\n",
    "fairing.config.set_preprocessor('python', command=command, path_prefix=\"/app\", output_map=output_map)\n",
    "fairing.config.set_builder(name='cluster', registry=DOCKER_REGISTRY, \\\n",
    "                           context_source=minio_context_source, cleanup=True, \\\n",
    "                          pod_spec_mutators=[mounting_pvc(pvc_name=pvc_name, pvc_mount_path=model_dir)])\n",
    "fairing.config.set_deployer(name='tfjob', namespace=my_namespace, stream_log=False, job_name=tfjob_name,\n",
    "                            chief_count=num_chief, worker_count=num_workers, ps_count=num_ps, \n",
    "                            pod_spec_mutators=[mounting_pvc(pvc_name=pvc_name, pvc_mount_path=model_dir)])\n",
    "fairing.config.run()\n",
    "#fairing.config.run()"
   ]
  },
  {
   "cell_type": "code",
   "execution_count": 19,
   "metadata": {},
   "outputs": [],
   "source": [
    "#tfjob_name = 'mnist-training-565f'\n",
    "tfjob_namespace = 'dejan-golubovic'"
   ]
  },
  {
   "cell_type": "code",
   "execution_count": 20,
   "metadata": {},
   "outputs": [
    {
     "data": {
      "text/plain": [
       "{'apiVersion': 'kubeflow.org/v1',\n",
       " 'kind': 'TFJob',\n",
       " 'metadata': {'creationTimestamp': '2020-10-16T11:58:44Z',\n",
       "  'generateName': 'fairing-tfjob-',\n",
       "  'generation': 1,\n",
       "  'labels': {'fairing-deployer': 'tfjob',\n",
       "   'fairing-id': 'f11a7680-0fa6-11eb-8751-0a580a6404a8'},\n",
       "  'name': 'mnist-training-a212',\n",
       "  'namespace': 'dejan-golubovic',\n",
       "  'resourceVersion': '30851855',\n",
       "  'selfLink': '/apis/kubeflow.org/v1/namespaces/dejan-golubovic/tfjobs/mnist-training-a212',\n",
       "  'uid': 'a25d015a-2eaf-48ed-990e-52de5da7abed'},\n",
       " 'spec': {'tfReplicaSpecs': {'Chief': {'replicas': 1,\n",
       "    'template': {'metadata': {'annotations': {'sidecar.istio.io/inject': 'false'},\n",
       "      'labels': {'fairing-deployer': 'tfjob',\n",
       "       'fairing-id': 'f11a7680-0fa6-11eb-8751-0a580a6404a8'},\n",
       "      'name': 'fairing-deployer'},\n",
       "     'spec': {'containers': [{'command': ['python',\n",
       "         '/opt/mnist.py',\n",
       "         '--tf-model-dir=/mnt',\n",
       "         '--tf-export-dir=/mnt/export',\n",
       "         '--tf-train-steps=1000',\n",
       "         '--tf-batch-size=100',\n",
       "         '--tf-learning-rate=0.01'],\n",
       "        'env': [{'name': 'FAIRING_RUNTIME', 'value': '1'}],\n",
       "        'image': 'index.docker.io/dejangolubovic/fairing-job:E16AEA42',\n",
       "        'name': 'tensorflow',\n",
       "        'securityContext': {'runAsUser': 0},\n",
       "        'volumeMounts': [{'mountPath': '/mnt',\n",
       "          'name': 'fairing-volume-dejan-fairing-pvc-2'}],\n",
       "        'workingDir': '/app'}],\n",
       "      'restartPolicy': 'Never',\n",
       "      'volumes': [{'name': 'fairing-volume-dejan-fairing-pvc-2',\n",
       "        'persistentVolumeClaim': {'claimName': 'dejan-fairing-pvc-2'}}]}}},\n",
       "   'PS': {'replicas': 1,\n",
       "    'template': {'metadata': {'annotations': {'sidecar.istio.io/inject': 'false'},\n",
       "      'labels': {'fairing-deployer': 'tfjob',\n",
       "       'fairing-id': 'f11a7680-0fa6-11eb-8751-0a580a6404a8'},\n",
       "      'name': 'fairing-deployer'},\n",
       "     'spec': {'containers': [{'command': ['python',\n",
       "         '/opt/mnist.py',\n",
       "         '--tf-model-dir=/mnt',\n",
       "         '--tf-export-dir=/mnt/export',\n",
       "         '--tf-train-steps=1000',\n",
       "         '--tf-batch-size=100',\n",
       "         '--tf-learning-rate=0.01'],\n",
       "        'env': [{'name': 'FAIRING_RUNTIME', 'value': '1'}],\n",
       "        'image': 'index.docker.io/dejangolubovic/fairing-job:E16AEA42',\n",
       "        'name': 'tensorflow',\n",
       "        'securityContext': {'runAsUser': 0},\n",
       "        'volumeMounts': [{'mountPath': '/mnt',\n",
       "          'name': 'fairing-volume-dejan-fairing-pvc-2'}],\n",
       "        'workingDir': '/app'}],\n",
       "      'restartPolicy': 'Never',\n",
       "      'volumes': [{'name': 'fairing-volume-dejan-fairing-pvc-2',\n",
       "        'persistentVolumeClaim': {'claimName': 'dejan-fairing-pvc-2'}}]}}},\n",
       "   'Worker': {'replicas': 2,\n",
       "    'template': {'metadata': {'annotations': {'sidecar.istio.io/inject': 'false'},\n",
       "      'labels': {'fairing-deployer': 'tfjob',\n",
       "       'fairing-id': 'f11a7680-0fa6-11eb-8751-0a580a6404a8'},\n",
       "      'name': 'fairing-deployer'},\n",
       "     'spec': {'containers': [{'command': ['python',\n",
       "         '/opt/mnist.py',\n",
       "         '--tf-model-dir=/mnt',\n",
       "         '--tf-export-dir=/mnt/export',\n",
       "         '--tf-train-steps=1000',\n",
       "         '--tf-batch-size=100',\n",
       "         '--tf-learning-rate=0.01'],\n",
       "        'env': [{'name': 'FAIRING_RUNTIME', 'value': '1'}],\n",
       "        'image': 'index.docker.io/dejangolubovic/fairing-job:E16AEA42',\n",
       "        'name': 'tensorflow',\n",
       "        'securityContext': {'runAsUser': 0},\n",
       "        'volumeMounts': [{'mountPath': '/mnt',\n",
       "          'name': 'fairing-volume-dejan-fairing-pvc-2'}],\n",
       "        'workingDir': '/app'}],\n",
       "      'restartPolicy': 'Never',\n",
       "      'volumes': [{'name': 'fairing-volume-dejan-fairing-pvc-2',\n",
       "        'persistentVolumeClaim': {'claimName': 'dejan-fairing-pvc-2'}}]}}}}},\n",
       " 'status': {'conditions': [{'lastTransitionTime': '2020-10-16T11:58:44Z',\n",
       "    'lastUpdateTime': '2020-10-16T11:58:44Z',\n",
       "    'message': 'TFJob mnist-training-a212 is created.',\n",
       "    'reason': 'TFJobCreated',\n",
       "    'status': 'True',\n",
       "    'type': 'Created'}],\n",
       "  'replicaStatuses': {'Chief': {}, 'PS': {}, 'Worker': {}},\n",
       "  'startTime': '2020-10-16T11:58:45Z'}}"
      ]
     },
     "execution_count": 20,
     "metadata": {},
     "output_type": "execute_result"
    }
   ],
   "source": [
    "from kubeflow.tfjob import TFJobClient\n",
    "tfjob_client = TFJobClient()\n",
    "\n",
    "tfjob_client.get(tfjob_name, namespace=tfjob_namespace)"
   ]
  },
  {
   "cell_type": "code",
   "execution_count": 21,
   "metadata": {},
   "outputs": [
    {
     "name": "stdout",
     "output_type": "stream",
     "text": [
      "mnist-training-a212            Created              2020-10-16T11:58:44Z          \n",
      "mnist-training-a212            Created              2020-10-16T11:58:44Z          \n",
      "mnist-training-a212            Running              2020-10-16T11:59:15Z          \n",
      "mnist-training-a212            Running              2020-10-16T11:59:15Z          \n",
      "mnist-training-a212            Running              2020-10-16T11:59:15Z          \n",
      "mnist-training-a212            Succeeded            2020-10-16T11:59:19Z          \n"
     ]
    }
   ],
   "source": [
    "tfjob_client.wait_for_job(tfjob_name, namespace=tfjob_namespace, watch=True)"
   ]
  },
  {
   "cell_type": "code",
   "execution_count": 22,
   "metadata": {},
   "outputs": [
    {
     "data": {
      "text/plain": [
       "True"
      ]
     },
     "execution_count": 22,
     "metadata": {},
     "output_type": "execute_result"
    }
   ],
   "source": [
    "tfjob_client.is_job_succeeded(tfjob_name, namespace=tfjob_namespace)"
   ]
  },
  {
   "cell_type": "code",
   "execution_count": null,
   "metadata": {},
   "outputs": [],
   "source": [
    "#tfjob_client.get_logs(tfjob_name, namespace=tfjob_namespace)"
   ]
  },
  {
   "cell_type": "code",
   "execution_count": 23,
   "metadata": {},
   "outputs": [
    {
     "name": "stdout",
     "output_type": "stream",
     "text": [
      "dejan-mnist-service-1efc\n",
      "NAME                 READY      DEFAULT_TRAFFIC CANARY_TRAFFIC  URL                                               \n",
      "dejan-mnist-servi... Unknown                                                                                      \n",
      "dejan-mnist-servi... False                                                                                        \n",
      "dejan-mnist-servi... False                                                                                        \n",
      "dejan-mnist-servi... False                                                                                        \n",
      "dejan-mnist-servi... True       100                             http://dejan-mnist-service-1efc.dejan-golubovic...\n"
     ]
    },
    {
     "name": "stderr",
     "output_type": "stream",
     "text": [
      "[I 201016 12:00:14 kfserving:127] Deployed the InferenceService dejan-mnist-service-1efc successfully.\n"
     ]
    },
    {
     "data": {
      "text/plain": [
       "'dejan-mnist-service-1efc'"
      ]
     },
     "execution_count": 23,
     "metadata": {},
     "output_type": "execute_result"
    }
   ],
   "source": [
    "from kubeflow.fairing.deployers.kfserving.kfserving import KFServing\n",
    "isvc_name = f'dejan-mnist-service-{uuid.uuid4().hex[:4]}'\n",
    "print(isvc_name)\n",
    "isvc = KFServing('tensorflow', namespace=tfjob_namespace, isvc_name=isvc_name,\n",
    "                 default_storage_uri='pvc://' + pvc_name + '/export')\n",
    "isvc.deploy(isvc.generate_isvc())"
   ]
  },
  {
   "cell_type": "code",
   "execution_count": 24,
   "metadata": {},
   "outputs": [
    {
     "data": {
      "text/plain": [
       "{'apiVersion': 'serving.kubeflow.org/v1alpha2',\n",
       " 'items': [{'apiVersion': 'serving.kubeflow.org/v1alpha2',\n",
       "   'kind': 'InferenceService',\n",
       "   'metadata': {'creationTimestamp': '2020-10-16T11:42:54Z',\n",
       "    'generateName': 'fairing-kfserving-',\n",
       "    'generation': 1,\n",
       "    'name': 'dejan-mnist-service',\n",
       "    'namespace': 'dejan-golubovic',\n",
       "    'resourceVersion': '30845834',\n",
       "    'selfLink': '/apis/serving.kubeflow.org/v1alpha2/namespaces/dejan-golubovic/inferenceservices/dejan-mnist-service',\n",
       "    'uid': '334148ad-c3bf-4d07-bda3-4b0407483b69'},\n",
       "   'spec': {'default': {'predictor': {'tensorflow': {'resources': {'limits': {'cpu': '1',\n",
       "         'memory': '2Gi'},\n",
       "        'requests': {'cpu': '1', 'memory': '2Gi'}},\n",
       "       'runtimeVersion': '1.14.0',\n",
       "       'storageUri': 'pvc://dejan-fairing-pvc-2/export'}}}},\n",
       "   'status': {'address': {'url': 'http://dejan-mnist-service.dejan-golubovic.svc.cluster.local/v1/models/dejan-mnist-service:predict'},\n",
       "    'canary': {},\n",
       "    'conditions': [{'lastTransitionTime': '2020-10-16T11:43:56Z',\n",
       "      'status': 'True',\n",
       "      'type': 'DefaultPredictorReady'},\n",
       "     {'lastTransitionTime': '2020-10-16T11:43:56Z',\n",
       "      'status': 'True',\n",
       "      'type': 'Ready'},\n",
       "     {'lastTransitionTime': '2020-10-16T11:43:56Z',\n",
       "      'status': 'True',\n",
       "      'type': 'RoutesReady'}],\n",
       "    'default': {'predictor': {'host': 'dejan-mnist-service-predictor-default.dejan-golubovic.example.com',\n",
       "      'name': 'dejan-mnist-service-predictor-default-vg6p8'}},\n",
       "    'traffic': 100,\n",
       "    'url': 'http://dejan-mnist-service.dejan-golubovic.example.com/v1/models/dejan-mnist-service'}},\n",
       "  {'apiVersion': 'serving.kubeflow.org/v1alpha2',\n",
       "   'kind': 'InferenceService',\n",
       "   'metadata': {'creationTimestamp': '2020-10-16T11:59:24Z',\n",
       "    'generateName': 'fairing-kfserving-',\n",
       "    'generation': 1,\n",
       "    'name': 'dejan-mnist-service-1efc',\n",
       "    'namespace': 'dejan-golubovic',\n",
       "    'resourceVersion': '30852641',\n",
       "    'selfLink': '/apis/serving.kubeflow.org/v1alpha2/namespaces/dejan-golubovic/inferenceservices/dejan-mnist-service-1efc',\n",
       "    'uid': 'bea6db6f-44a3-4882-ab72-f4a68ddec4c8'},\n",
       "   'spec': {'default': {'predictor': {'tensorflow': {'resources': {'limits': {'cpu': '1',\n",
       "         'memory': '2Gi'},\n",
       "        'requests': {'cpu': '1', 'memory': '2Gi'}},\n",
       "       'runtimeVersion': '1.14.0',\n",
       "       'storageUri': 'pvc://dejan-fairing-pvc-2/export'}}}},\n",
       "   'status': {'address': {'url': 'http://dejan-mnist-service-1efc.dejan-golubovic.svc.cluster.local/v1/models/dejan-mnist-service-1efc:predict'},\n",
       "    'canary': {},\n",
       "    'conditions': [{'lastTransitionTime': '2020-10-16T12:00:13Z',\n",
       "      'status': 'True',\n",
       "      'type': 'DefaultPredictorReady'},\n",
       "     {'lastTransitionTime': '2020-10-16T12:00:13Z',\n",
       "      'status': 'True',\n",
       "      'type': 'Ready'},\n",
       "     {'lastTransitionTime': '2020-10-16T12:00:13Z',\n",
       "      'status': 'True',\n",
       "      'type': 'RoutesReady'}],\n",
       "    'default': {'predictor': {'host': 'dejan-mnist-service-1efc-predictor-default.dejan-golubovic.example.com',\n",
       "      'name': 'dejan-mnist-service-1efc-predictor-default-n9vsj'}},\n",
       "    'traffic': 100,\n",
       "    'url': 'http://dejan-mnist-service-1efc.dejan-golubovic.example.com/v1/models/dejan-mnist-service-1efc'}},\n",
       "  {'apiVersion': 'serving.kubeflow.org/v1alpha2',\n",
       "   'kind': 'InferenceService',\n",
       "   'metadata': {'creationTimestamp': '2020-09-22T10:37:38Z',\n",
       "    'generateName': 'fairing-kfserving-',\n",
       "    'generation': 1,\n",
       "    'name': 'dejan-model-svc',\n",
       "    'namespace': 'dejan-golubovic',\n",
       "    'resourceVersion': '30499521',\n",
       "    'selfLink': '/apis/serving.kubeflow.org/v1alpha2/namespaces/dejan-golubovic/inferenceservices/dejan-model-svc',\n",
       "    'uid': 'ad62b26e-5afe-4ec4-9aec-5fa44f006a46'},\n",
       "   'spec': {'default': {'predictor': {'tensorflow': {'resources': {'limits': {'cpu': '1',\n",
       "         'memory': '2Gi'},\n",
       "        'requests': {'cpu': '1', 'memory': '2Gi'}},\n",
       "       'runtimeVersion': '1.14.0',\n",
       "       'storageUri': 'pvc://dejan-fairing-pvc-2/export'}}}},\n",
       "   'status': {'address': {'url': 'http://dejan-model-svc.dejan-golubovic.svc.cluster.local/v1/models/dejan-model-svc:predict'},\n",
       "    'canary': {},\n",
       "    'conditions': [{'lastTransitionTime': '2020-10-15T21:33:40Z',\n",
       "      'status': 'True',\n",
       "      'type': 'DefaultPredictorReady'},\n",
       "     {'lastTransitionTime': '2020-10-15T21:33:40Z',\n",
       "      'status': 'True',\n",
       "      'type': 'Ready'},\n",
       "     {'lastTransitionTime': '2020-10-15T21:33:40Z',\n",
       "      'status': 'True',\n",
       "      'type': 'RoutesReady'}],\n",
       "    'default': {'predictor': {'host': 'dejan-model-svc-predictor-default.dejan-golubovic.example.com',\n",
       "      'name': 'dejan-model-svc-predictor-default-9w4xs'}},\n",
       "    'traffic': 100,\n",
       "    'url': 'http://dejan-model-svc.dejan-golubovic.example.com/v1/models/dejan-model-svc'}},\n",
       "  {'apiVersion': 'serving.kubeflow.org/v1alpha2',\n",
       "   'kind': 'InferenceService',\n",
       "   'metadata': {'creationTimestamp': '2020-09-25T09:47:18Z',\n",
       "    'generateName': 'fairing-kfserving-',\n",
       "    'generation': 1,\n",
       "    'name': 'mnist-service-19bc',\n",
       "    'namespace': 'dejan-golubovic',\n",
       "    'resourceVersion': '30744366',\n",
       "    'selfLink': '/apis/serving.kubeflow.org/v1alpha2/namespaces/dejan-golubovic/inferenceservices/mnist-service-19bc',\n",
       "    'uid': 'd6e696c5-5547-4d90-935d-77c19fba11ab'},\n",
       "   'spec': {'default': {'predictor': {'tensorflow': {'resources': {'limits': {'cpu': '1',\n",
       "         'memory': '2Gi'},\n",
       "        'requests': {'cpu': '1', 'memory': '2Gi'}},\n",
       "       'runtimeVersion': '1.14.0',\n",
       "       'storageUri': 'pvc://dejan-fairing-pvc-2/export'}}}},\n",
       "   'status': {'address': {'url': 'http://mnist-service-19bc.dejan-golubovic.svc.cluster.local/v1/models/mnist-service-19bc:predict'},\n",
       "    'canary': {},\n",
       "    'conditions': [{'lastTransitionTime': '2020-10-16T07:33:30Z',\n",
       "      'status': 'True',\n",
       "      'type': 'DefaultPredictorReady'},\n",
       "     {'lastTransitionTime': '2020-10-16T07:33:30Z',\n",
       "      'status': 'True',\n",
       "      'type': 'Ready'},\n",
       "     {'lastTransitionTime': '2020-10-16T07:33:30Z',\n",
       "      'status': 'True',\n",
       "      'type': 'RoutesReady'}],\n",
       "    'default': {'predictor': {'host': 'mnist-service-19bc-predictor-default.dejan-golubovic.example.com',\n",
       "      'name': 'mnist-service-19bc-predictor-default-xwcgx'}},\n",
       "    'traffic': 100,\n",
       "    'url': 'http://mnist-service-19bc.dejan-golubovic.example.com/v1/models/mnist-service-19bc'}},\n",
       "  {'apiVersion': 'serving.kubeflow.org/v1alpha2',\n",
       "   'kind': 'InferenceService',\n",
       "   'metadata': {'creationTimestamp': '2020-09-24T11:51:02Z',\n",
       "    'generateName': 'fairing-kfserving-',\n",
       "    'generation': 1,\n",
       "    'name': 'mnist-service-b9e3',\n",
       "    'namespace': 'dejan-golubovic',\n",
       "    'resourceVersion': '30744362',\n",
       "    'selfLink': '/apis/serving.kubeflow.org/v1alpha2/namespaces/dejan-golubovic/inferenceservices/mnist-service-b9e3',\n",
       "    'uid': '9a443e2a-bd97-4538-8d53-940f15b35430'},\n",
       "   'spec': {'default': {'predictor': {'tensorflow': {'resources': {'limits': {'cpu': '1',\n",
       "         'memory': '2Gi'},\n",
       "        'requests': {'cpu': '1', 'memory': '2Gi'}},\n",
       "       'runtimeVersion': '1.14.0',\n",
       "       'storageUri': 'pvc://dejan-fairing-pvc-2/export'}}}},\n",
       "   'status': {'address': {'url': 'http://mnist-service-b9e3.dejan-golubovic.svc.cluster.local/v1/models/mnist-service-b9e3:predict'},\n",
       "    'canary': {},\n",
       "    'conditions': [{'lastTransitionTime': '2020-10-16T07:33:30Z',\n",
       "      'status': 'True',\n",
       "      'type': 'DefaultPredictorReady'},\n",
       "     {'lastTransitionTime': '2020-10-16T07:33:30Z',\n",
       "      'status': 'True',\n",
       "      'type': 'Ready'},\n",
       "     {'lastTransitionTime': '2020-10-16T07:33:30Z',\n",
       "      'status': 'True',\n",
       "      'type': 'RoutesReady'}],\n",
       "    'default': {'predictor': {'host': 'mnist-service-b9e3-predictor-default.dejan-golubovic.example.com',\n",
       "      'name': 'mnist-service-b9e3-predictor-default-ks5sp'}},\n",
       "    'traffic': 100,\n",
       "    'url': 'http://mnist-service-b9e3.dejan-golubovic.example.com/v1/models/mnist-service-b9e3'}}],\n",
       " 'kind': 'InferenceServiceList',\n",
       " 'metadata': {'continue': '',\n",
       "  'resourceVersion': '30852703',\n",
       "  'selfLink': '/apis/serving.kubeflow.org/v1alpha2/namespaces/dejan-golubovic/inferenceservices'}}"
      ]
     },
     "execution_count": 24,
     "metadata": {},
     "output_type": "execute_result"
    }
   ],
   "source": [
    "from kfserving import KFServingClient\n",
    "kfserving_client = KFServingClient()\n",
    "kfserving_client.get(namespace=tfjob_namespace)"
   ]
  },
  {
   "cell_type": "code",
   "execution_count": 25,
   "metadata": {},
   "outputs": [
    {
     "name": "stdout",
     "output_type": "stream",
     "text": [
      "MNIST Service Endpoint: http://dejan-mnist-service-1efc.dejan-golubovic.example.com/v1/models/dejan-mnist-service-1efc\n"
     ]
    }
   ],
   "source": [
    "mnist_isvc = kfserving_client.get(isvc_name, namespace=tfjob_namespace)\n",
    "mnist_isvc_name = mnist_isvc['metadata']['name']\n",
    "mnist_isvc_endpoint = mnist_isvc['status'].get('url', '')\n",
    "print(\"MNIST Service Endpoint: \" + mnist_isvc_endpoint)"
   ]
  },
  {
   "cell_type": "code",
   "execution_count": null,
   "metadata": {},
   "outputs": [],
   "source": [
    "#ISTIO_CLUSTER_IP=!kubectl -n istio-system get service istio-ingressgateway -o jsonpath='{.spec.clusterIP}'\n",
    "#CLUSTER_IP=ISTIO_CLUSTER_IP[0]\n",
    "CLUSTER_IP = '10.254.73.13'\n",
    "MODEL_HOST=f\"Host: {mnist_isvc_name}.{tfjob_namespace}.example.com\"\n",
    "print(MODEL_HOST)\n",
    "print('curl -v -H'+MODEL_HOST+' http://'+CLUSTER_IP+'/v1/models/'+mnist_isvc_name+':predict -d @./input.json')\n",
    "!curl -v -H \"{MODEL_HOST}\" http://{CLUSTER_IP}/v1/models/{mnist_isvc_name}:predict -d @./input.json"
   ]
  },
  {
   "cell_type": "code",
   "execution_count": null,
   "metadata": {},
   "outputs": [],
   "source": [
    "tfjob_client.delete(tfjob_name, namespace=my_namespace)"
   ]
  }
 ],
 "metadata": {
  "kernelspec": {
   "display_name": "Python 3",
   "language": "python",
   "name": "python3"
  },
  "kubeflow_notebook": {
   "autosnapshot": false,
   "docker_image": "gitlab-registry.cern.ch/ai-ml/images/tensorflow-2.1.0-notebook-gpu:1.0.0-2",
   "experiment": {
    "id": "",
    "name": ""
   },
   "experiment_name": "",
   "katib_metadata": {
    "algorithm": {
     "algorithmName": "grid"
    },
    "maxFailedTrialCount": 3,
    "maxTrialCount": 12,
    "objective": {
     "objectiveMetricName": "",
     "type": "minimize"
    },
    "parallelTrialCount": 3,
    "parameters": []
   },
   "katib_run": false,
   "pipeline_description": "",
   "pipeline_name": "",
   "snapshot_volumes": false,
   "steps_defaults": [],
   "volumes": []
  },
  "language_info": {
   "codemirror_mode": {
    "name": "ipython",
    "version": 3
   },
   "file_extension": ".py",
   "mimetype": "text/x-python",
   "name": "python",
   "nbconvert_exporter": "python",
   "pygments_lexer": "ipython3",
   "version": "3.6.9"
  }
 },
 "nbformat": 4,
 "nbformat_minor": 4
}
