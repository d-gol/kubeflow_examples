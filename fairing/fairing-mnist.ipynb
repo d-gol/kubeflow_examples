{
 "cells": [
  {
   "cell_type": "markdown",
   "metadata": {
    "tags": []
   },
   "source": [
    "### Setup Docker registry credentials for Kubernetes configmap"
   ]
  },
  {
   "cell_type": "code",
   "execution_count": 1,
   "metadata": {},
   "outputs": [
    {
     "name": "stdout",
     "output_type": "stream",
     "text": [
      "configmap/docker-config created\n",
      "\n"
     ]
    }
   ],
   "source": [
    "import json\n",
    "import os\n",
    "import subprocess\n",
    "\n",
    "DOCKER_REGISTRY = 'index.docker.io/dejangolubovic'\n",
    "\n",
    "docker_config = {\n",
    "        \"auths\": {\n",
    "                \"https://index.docker.io/v1/\": {\n",
    "                        \"username\": \"username\",\n",
    "                        \"auth\": \"echo -n 'username:password' | base64\"}\n",
    "        },\n",
    "        \"HttpHeaders\": {\n",
    "                \"User-Agent\": \"Docker-Client/19.03.12 (linux)\"\n",
    "        }\n",
    "}\n",
    "\n",
    "with open('docker_config.json', 'w') as f:\n",
    "    json.dump(docker_config, f)\n",
    "\n",
    "docker_config_output = subprocess.check_output([\"kubectl\", \"create\", \"configmap\", \n",
    "                        \"docker-config\", \"--from-file=docker-config.json\"])\n",
    "print(docker_config_output.decode('utf-8'))"
   ]
  },
  {
   "cell_type": "markdown",
   "metadata": {
    "tags": []
   },
   "source": [
    "### Create a Persistent Volume Claim (PVC) to store the model"
   ]
  },
  {
   "cell_type": "code",
   "execution_count": 2,
   "metadata": {},
   "outputs": [
    {
     "name": "stdout",
     "output_type": "stream",
     "text": [
      "persistentvolumeclaim/fairing-pvc unchanged\n",
      "\n",
      "pvc_name: fairing-pvc\n",
      "pv_name: pvc-8cdb4205-5768-42e3-a439-72c5abfc30ff\n"
     ]
    }
   ],
   "source": [
    "pvc_output = subprocess.check_output([\"kubectl\", \"apply\", \"-f\", \"fairing-pvc.yaml\"])\n",
    "print(pvc_output.decode('utf-8'))\n",
    "\n",
    "pvc_name = subprocess.check_output([\"kubectl\", \"get\", \"pvc\", \"fairing-pvc\", \\\n",
    "                         \"-o=jsonpath='{.metadata.name}\"]).decode(\"utf-8\")[1:]\n",
    "pv_name = subprocess.check_output([\"kubectl\", \"get\", \"pvc\", \"fairing-pvc\", \\\n",
    "                         \"-o=jsonpath='{.spec.volumeName}\"]).decode(\"utf-8\")[1:]\n",
    "print('pvc_name:', pvc_name)\n",
    "print('pv_name:', pv_name)"
   ]
  },
  {
   "cell_type": "markdown",
   "metadata": {
    "tags": []
   },
   "source": [
    "### Setup model training using Kubeflow Fairing and TFJob"
   ]
  },
  {
   "cell_type": "code",
   "execution_count": 3,
   "metadata": {},
   "outputs": [],
   "source": [
    "num_chief = 1 # number of Chief workers in TFJob \n",
    "num_ps = 1  # number of Parameter Servers in TFJob \n",
    "num_workers = 2  # number of Workers in TFJob \n",
    "model_dir = \"/mnt\"\n",
    "export_path = \"/mnt/export\" \n",
    "train_steps = \"1000\"\n",
    "batch_size = \"100\"\n",
    "learning_rate = \"0.01\""
   ]
  },
  {
   "cell_type": "code",
   "execution_count": 4,
   "metadata": {
    "tags": []
   },
   "outputs": [
    {
     "name": "stderr",
     "output_type": "stream",
     "text": [
      "[W 210407 15:20:41 utils:51] The function mounting_pvc has been deprecated,                     please use `volume_mounts`\n",
      "[W 210407 15:20:41 utils:51] The function mounting_pvc has been deprecated,                     please use `volume_mounts`\n"
     ]
    },
    {
     "name": "stdout",
     "output_type": "stream",
     "text": [
      "mnist-training-77ef\n",
      "dejan-golubovic\n"
     ]
    }
   ],
   "source": [
    "import uuid\n",
    "from kubeflow import fairing   \n",
    "from kubeflow.fairing.kubernetes.utils import mounting_pvc\n",
    "from kubeflow.fairing.builders.cluster.minio_context import MinioContextSource\n",
    "import kfp\n",
    "\n",
    "tfjob_name = f'mnist-training-{uuid.uuid4().hex[:4]}'\n",
    "tfjob_namespace = kfp.Client().get_user_namespace()\n",
    "print(tfjob_name)\n",
    "print(tfjob_namespace)\n",
    "\n",
    "output_map =  {\n",
    "    \"Dockerfile\": \"Dockerfile\",\n",
    "    \"mnist.py\": \"mnist.py\"\n",
    "}\n",
    "\n",
    "context_source = ''\n",
    "\n",
    "command=[\"python\",\n",
    "         \"/opt/mnist.py\",\n",
    "         \"--tf-model-dir=\" + model_dir,\n",
    "         \"--tf-export-dir=\" + export_path,\n",
    "         \"--tf-train-steps=\" + train_steps,\n",
    "         \"--tf-batch-size=\" + batch_size,\n",
    "         \"--tf-learning-rate=\" + learning_rate]\n",
    "\n",
    "minio_context_source = MinioContextSource(\n",
    "            endpoint_url='http://minio-service.kubeflow:9000/',\n",
    "            minio_secret='minio',\n",
    "            minio_secret_key='minio123',#\n",
    "            region_name='region')\n",
    "\n",
    "fairing.config.set_preprocessor('python', \n",
    "                                command=command, \n",
    "                                path_prefix=\"/app\", \n",
    "                                output_map=output_map)\n",
    "\n",
    "fairing.config.set_builder(\n",
    "    name='cluster', \n",
    "    registry=DOCKER_REGISTRY, \n",
    "    context_source=minio_context_source, \n",
    "    cleanup=True,\n",
    "    pod_spec_mutators=[mounting_pvc(pvc_name=pvc_name, pvc_mount_path=model_dir)]\n",
    ")\n",
    "\n",
    "fairing.config.set_deployer(\n",
    "    name='tfjob',\n",
    "    namespace=tfjob_namespace,\n",
    "    stream_log=False, \n",
    "    job_name=tfjob_name,\n",
    "    chief_count=num_chief,\n",
    "    worker_count=num_workers,\n",
    "    ps_count=num_ps, \n",
    "    pod_spec_mutators=[mounting_pvc(pvc_name=pvc_name, pvc_mount_path=model_dir)]\n",
    ")"
   ]
  },
  {
   "cell_type": "markdown",
   "metadata": {
    "tags": []
   },
   "source": [
    "### Start training job"
   ]
  },
  {
   "cell_type": "code",
   "execution_count": 5,
   "metadata": {},
   "outputs": [
    {
     "name": "stderr",
     "output_type": "stream",
     "text": [
      "[I 210407 15:20:45 config:134] Using preprocessor: <kubeflow.fairing.preprocessors.base.BasePreProcessor object at 0x7f25a0e531d0>\n",
      "[I 210407 15:20:45 config:136] Using builder: <kubeflow.fairing.builders.cluster.cluster.ClusterBuilder object at 0x7f25a28e6048>\n",
      "[I 210407 15:20:45 config:138] Using deployer: <kubeflow.fairing.deployers.tfjob.tfjob.TfJob object at 0x7f25a0273dd8>\n",
      "[I 210407 15:20:46 cluster:46] Building image using cluster builder.\n",
      "[I 210407 15:20:46 base:107] Creating docker context: /tmp/fairing_context_n_2cmk91\n",
      "[W 210407 15:20:46 base:94] /tmp/fairing_dockerfile_cyv9tgof already exists in Fairing context, skipping...\n",
      "[W 210407 15:20:46 manager:298] Waiting for fairing-builder-m5ght-lks4s to start...\n",
      "[W 210407 15:20:46 manager:298] Waiting for fairing-builder-m5ght-lks4s to start...\n",
      "[W 210407 15:20:46 manager:298] Waiting for fairing-builder-m5ght-lks4s to start...\n",
      "[W 210407 15:21:12 manager:298] Waiting for fairing-builder-m5ght-lks4s to start...\n",
      "[I 210407 15:21:15 manager:304] Pod started running True\n"
     ]
    },
    {
     "name": "stdout",
     "output_type": "stream",
     "text": [
      "\u001b[36mINFO\u001b[0m[0001] Retrieving image manifest tensorflow/tensorflow:1.15.2-py3\n",
      "\u001b[36mINFO\u001b[0m[0002] Retrieving image manifest tensorflow/tensorflow:1.15.2-py3\n",
      "\u001b[36mINFO\u001b[0m[0003] Built cross stage deps: map[]\n",
      "\u001b[36mINFO\u001b[0m[0003] Retrieving image manifest tensorflow/tensorflow:1.15.2-py3\n",
      "\u001b[36mINFO\u001b[0m[0004] Retrieving image manifest tensorflow/tensorflow:1.15.2-py3\n",
      "\u001b[36mINFO\u001b[0m[0005] Executing 0 build triggers\n",
      "\u001b[36mINFO\u001b[0m[0005] Unpacking rootfs as cmd ADD mnist.py /opt/mnist.py requires it.\n",
      "\u001b[36mINFO\u001b[0m[0029] Taking snapshot of full filesystem...\n",
      "\u001b[36mINFO\u001b[0m[0032] Resolving 27181 paths\n",
      "\u001b[36mINFO\u001b[0m[0037] Using files from context: [/kaniko/buildcontext/mnist.py]\n",
      "\u001b[36mINFO\u001b[0m[0037] ADD mnist.py /opt/mnist.py\n",
      "\u001b[36mINFO\u001b[0m[0037] RUN chmod +x /opt/mnist.py\n",
      "\u001b[36mINFO\u001b[0m[0037] cmd: /bin/sh\n",
      "\u001b[36mINFO\u001b[0m[0037] args: [-c chmod +x /opt/mnist.py]\n",
      "\u001b[36mINFO\u001b[0m[0037] Running: [/bin/sh -c chmod +x /opt/mnist.py]\n",
      "\u001b[36mINFO\u001b[0m[0037] ENTRYPOINT [\"/usr/bin/python\"]\n",
      "\u001b[36mINFO\u001b[0m[0037] CMD [\"/opt/mnist.py\"]\n",
      "\u001b[36mINFO\u001b[0m[0037] Taking snapshot of full filesystem...\n",
      "\u001b[36mINFO\u001b[0m[0037] Resolving 27182 paths\n"
     ]
    },
    {
     "name": "stderr",
     "output_type": "stream",
     "text": [
      "[W 210407 15:22:00 cluster:106] Cleaning up job fairing-builder-m5ght...\n",
      "[W 210407 15:22:00 job:101] The tfjob mnist-training-77ef launched.\n"
     ]
    },
    {
     "data": {
      "text/plain": [
       "(<kubeflow.fairing.preprocessors.base.BasePreProcessor at 0x7f25a0e531d0>,\n",
       " <kubeflow.fairing.builders.cluster.cluster.ClusterBuilder at 0x7f25a28e6048>,\n",
       " <kubeflow.fairing.deployers.tfjob.tfjob.TfJob at 0x7f25a0273dd8>)"
      ]
     },
     "execution_count": 5,
     "metadata": {},
     "output_type": "execute_result"
    }
   ],
   "source": [
    "fairing.config.run()"
   ]
  },
  {
   "cell_type": "markdown",
   "metadata": {
    "tags": []
   },
   "source": [
    "### Inspect the running training job"
   ]
  },
  {
   "cell_type": "code",
   "execution_count": 6,
   "metadata": {},
   "outputs": [],
   "source": [
    "from kubeflow.tfjob import TFJobClient\n",
    "tfjob_client = TFJobClient()\n",
    "\n",
    "#tfjob_client.get(tfjob_name, namespace=tfjob_namespace)"
   ]
  },
  {
   "cell_type": "code",
   "execution_count": 7,
   "metadata": {},
   "outputs": [
    {
     "name": "stdout",
     "output_type": "stream",
     "text": [
      "NAME                           STATE                TIME                          \n",
      "mnist-training-77ef            Created              2021-04-07T15:22:00Z          \n",
      "mnist-training-77ef            Running              2021-04-07T15:22:27Z          \n",
      "mnist-training-77ef            Running              2021-04-07T15:22:27Z          \n",
      "mnist-training-77ef            Succeeded            2021-04-07T15:22:31Z          \n"
     ]
    }
   ],
   "source": [
    "tfjob_client.wait_for_job(tfjob_name, namespace=tfjob_namespace, watch=True)"
   ]
  },
  {
   "cell_type": "code",
   "execution_count": 8,
   "metadata": {},
   "outputs": [
    {
     "data": {
      "text/plain": [
       "True"
      ]
     },
     "execution_count": 8,
     "metadata": {},
     "output_type": "execute_result"
    }
   ],
   "source": [
    "tfjob_client.is_job_succeeded(tfjob_name, namespace=tfjob_namespace)"
   ]
  },
  {
   "cell_type": "code",
   "execution_count": null,
   "metadata": {},
   "outputs": [],
   "source": [
    "#tfjob_client.get_logs(tfjob_name, namespace=tfjob_namespace)"
   ]
  },
  {
   "cell_type": "markdown",
   "metadata": {
    "tags": []
   },
   "source": [
    "### Serve the trained model"
   ]
  },
  {
   "cell_type": "code",
   "execution_count": 9,
   "metadata": {},
   "outputs": [
    {
     "name": "stdout",
     "output_type": "stream",
     "text": [
      "dejan-mnist-service-197a\n",
      "NAME                 READY      DEFAULT_TRAFFIC CANARY_TRAFFIC  URL                                               \n",
      "dejan-mnist-servi... Unknown                                                                                      \n",
      "dejan-mnist-servi... False                                                                                        \n",
      "dejan-mnist-servi... False                                                                                        \n",
      "dejan-mnist-servi... False                                                                                        \n",
      "dejan-mnist-servi... False                                                                                        \n",
      "dejan-mnist-servi... False                                                                                        \n",
      "dejan-mnist-servi... True       100                             http://dejan-mnist-service-197a.dejan-golubovic...\n"
     ]
    },
    {
     "name": "stderr",
     "output_type": "stream",
     "text": [
      "[I 210407 15:23:09 kfserving:127] Deployed the InferenceService dejan-mnist-service-197a successfully.\n"
     ]
    },
    {
     "data": {
      "text/plain": [
       "'dejan-mnist-service-197a'"
      ]
     },
     "execution_count": 9,
     "metadata": {},
     "output_type": "execute_result"
    }
   ],
   "source": [
    "from kubeflow.fairing.deployers.kfserving.kfserving import KFServing\n",
    "\n",
    "isvc_name = f'dejan-mnist-service-{uuid.uuid4().hex[:4]}'\n",
    "print(isvc_name)\n",
    "isvc = KFServing('tensorflow',\n",
    "                 namespace=tfjob_namespace,\n",
    "                 isvc_name=isvc_name,\n",
    "                 default_storage_uri='pvc://' + pvc_name + '/export')\n",
    "isvc.deploy(isvc.generate_isvc())"
   ]
  },
  {
   "cell_type": "code",
   "execution_count": 10,
   "metadata": {},
   "outputs": [
    {
     "name": "stdout",
     "output_type": "stream",
     "text": [
      "MNIST Service Endpoint: http://dejan-mnist-service-197a.dejan-golubovic.example.com/v1/models/dejan-mnist-service-197a\n"
     ]
    }
   ],
   "source": [
    "from kfserving import KFServingClient\n",
    "\n",
    "kfserving_client = KFServingClient()\n",
    "mnist_isvc = kfserving_client.get(isvc_name, namespace=tfjob_namespace)\n",
    "mnist_isvc_name = mnist_isvc['metadata']['name']\n",
    "mnist_isvc_endpoint = mnist_isvc['status'].get('url', '')\n",
    "\n",
    "print(\"MNIST Service Endpoint: \" + mnist_isvc_endpoint)"
   ]
  },
  {
   "cell_type": "code",
   "execution_count": 11,
   "metadata": {},
   "outputs": [
    {
     "name": "stdout",
     "output_type": "stream",
     "text": [
      "Host: dejan-mnist-service-197a-predictor-default.dejan-golubovic.example.com\n",
      "http://ml.cern.ch/v1/models/dejan-mnist-service-197a:predict\n",
      "*   Trying 137.138.6.116...\n",
      "* TCP_NODELAY set\n",
      "* Connected to ml.cern.ch (137.138.6.116) port 80 (#0)\n",
      "> POST /v1/models/dejan-mnist-service-197a:predict HTTP/1.1\n",
      "> Host: dejan-mnist-service-197a-predictor-default.dejan-golubovic.example.com\n",
      "> User-Agent: curl/7.58.0\n",
      "> Accept: */*\n",
      "> Content-Length: 2052\n",
      "> Content-Type: application/x-www-form-urlencoded\n",
      "> Expect: 100-continue\n",
      "> \n",
      "< HTTP/1.1 100 Continue\n",
      "* We are completely uploaded and fine\n",
      "< HTTP/1.1 302 Found\n",
      "< location: https://auth.cern.ch/auth/realms/cern/protocol/openid-connect/auth?client_id=kubeflow-ml&redirect_uri=https%3A%2F%2Fml.cern.ch%2Flogin%2Foidc&response_type=code&scope=profile+openid&state=MTYxNzgwODk5OXxFd3dBRURCNlYyaHBiVkJxZUV4aE9GUkdjbVE9fEq71z_lkULW91mlFBdcMHoOrCWQ1l4-PJFv7U45S9eN\n",
      "< date: Wed, 07 Apr 2021 15:23:19 GMT\n",
      "< content-length: 0\n",
      "< x-envoy-upstream-service-time: 19\n",
      "< server: envoy\n",
      "< \n",
      "* Connection #0 to host ml.cern.ch left intact\n"
     ]
    }
   ],
   "source": [
    "MODEL_HOST = f\"Host: {mnist_isvc_name}-predictor-default.{tfjob_namespace}.example.com\"\n",
    "MODEL_URL = f\"http://ml.cern.ch/v1/models/{mnist_isvc_name}:predict\"\n",
    "print(MODEL_HOST)\n",
    "print(MODEL_URL)\n",
    "\n",
    "!curl -v -H \"{MODEL_HOST}\" {MODEL_URL} -d @./input.json"
   ]
  },
  {
   "cell_type": "markdown",
   "metadata": {
    "tags": []
   },
   "source": [
    "### Delete training job and inference service"
   ]
  },
  {
   "cell_type": "code",
   "execution_count": 12,
   "metadata": {},
   "outputs": [
    {
     "data": {
      "text/plain": [
       "{'kind': 'Status',\n",
       " 'apiVersion': 'v1',\n",
       " 'metadata': {},\n",
       " 'status': 'Success',\n",
       " 'details': {'name': 'mnist-training-77ef',\n",
       "  'group': 'kubeflow.org',\n",
       "  'kind': 'tfjobs',\n",
       "  'uid': '4a828543-920d-4c5c-a50e-947d4c06834e'}}"
      ]
     },
     "execution_count": 12,
     "metadata": {},
     "output_type": "execute_result"
    }
   ],
   "source": [
    "tfjob_client.delete(tfjob_name, namespace=tfjob_namespace)"
   ]
  },
  {
   "cell_type": "code",
   "execution_count": 13,
   "metadata": {},
   "outputs": [
    {
     "data": {
      "text/plain": [
       "{'kind': 'Status',\n",
       " 'apiVersion': 'v1',\n",
       " 'metadata': {},\n",
       " 'status': 'Success',\n",
       " 'details': {'name': 'dejan-mnist-service-197a',\n",
       "  'group': 'serving.kubeflow.org',\n",
       "  'kind': 'inferenceservices',\n",
       "  'uid': 'c4be3c20-77bd-41b1-a197-154fbdbce91c'}}"
      ]
     },
     "execution_count": 13,
     "metadata": {},
     "output_type": "execute_result"
    }
   ],
   "source": [
    "kfserving_client.delete(isvc_name, namespace=tfjob_namespace)"
   ]
  },
  {
   "cell_type": "code",
   "execution_count": null,
   "metadata": {},
   "outputs": [],
   "source": []
  }
 ],
 "metadata": {
  "kernelspec": {
   "display_name": "Python 3",
   "language": "python",
   "name": "python3"
  },
  "kubeflow_notebook": {
   "autosnapshot": false,
   "docker_image": "gitlab-registry.cern.ch/ai-ml/images/tensorflow-2.1.0-notebook-gpu:1.0.0-2",
   "experiment": {
    "id": "",
    "name": ""
   },
   "experiment_name": "",
   "katib_metadata": {
    "algorithm": {
     "algorithmName": "grid"
    },
    "maxFailedTrialCount": 3,
    "maxTrialCount": 12,
    "objective": {
     "objectiveMetricName": "",
     "type": "minimize"
    },
    "parallelTrialCount": 3,
    "parameters": []
   },
   "katib_run": false,
   "pipeline_description": "",
   "pipeline_name": "",
   "snapshot_volumes": false,
   "steps_defaults": [],
   "volumes": []
  },
  "language_info": {
   "codemirror_mode": {
    "name": "ipython",
    "version": 3
   },
   "file_extension": ".py",
   "mimetype": "text/x-python",
   "name": "python",
   "nbconvert_exporter": "python",
   "pygments_lexer": "ipython3",
   "version": "3.6.9"
  }
 },
 "nbformat": 4,
 "nbformat_minor": 4
}
