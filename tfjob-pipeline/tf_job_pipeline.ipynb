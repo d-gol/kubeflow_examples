{
 "cells": [
  {
   "cell_type": "code",
   "execution_count": null,
   "metadata": {},
   "outputs": [],
   "source": [
    "import kfp.dsl as dsl\n",
    "from string import Template\n",
    "import json"
   ]
  },
  {
   "cell_type": "code",
   "execution_count": null,
   "metadata": {},
   "outputs": [],
   "source": [
    "tfjobjson_template = Template(\"\"\"\n",
    "{\n",
    "    \"apiVersion\": \"kubeflow.org/v1\",\n",
    "    \"kind\": \"TFJob\",\n",
    "    \"metadata\": {\n",
    "        \"name\": \"tfjob-custom-code-{{workflow.uid}}\",\n",
    "        \"namespace\": \"dejan-golubovic\"\n",
    "    },\n",
    "    \"spec\": {\n",
    "        \"tfReplicaSpecs\": {\n",
    "            \"Worker\": {\n",
    "                \"replicas\": 1,\n",
    "                \"template\": {\n",
    "                    \"spec\": {\n",
    "                        \"containers\": [\n",
    "                            {\n",
    "                                \"image\": \"registry.hub.docker.com/dejangolubovic/tfjob-test:customcode4\",\n",
    "                                \"name\": \"tensorflow\",\n",
    "                                \"command\": [\"python\", \"/custom-code.py\"]\n",
    "                            }\n",
    "                        ],\n",
    "                        \"restartPolicy\": \"Never\"\n",
    "                    },\n",
    "                    \"metadata\": {\n",
    "                        \"annotations\": {\n",
    "                            \"sidecar.istio.io/inject\": \"false\"\n",
    "                        }\n",
    "                    }\n",
    "                }\n",
    "            }\n",
    "        }\n",
    "    }\n",
    "}\n",
    "\"\"\")\n",
    "\n",
    "tfjobjson = tfjobjson_template.substitute()\n",
    "tfjob = json.loads(tfjobjson)"
   ]
  },
  {
   "cell_type": "code",
   "execution_count": null,
   "metadata": {},
   "outputs": [],
   "source": [
    "def tfjob_pipeline():\n",
    "    tfjob_op = dsl.ResourceOp(\n",
    "        name='test_tf_job',\n",
    "        k8s_resource=tfjob,\n",
    "        success_condition='status.replicaStatuses.Worker.succeeded == 1'\n",
    "    )"
   ]
  },
  {
   "cell_type": "code",
   "execution_count": null,
   "metadata": {},
   "outputs": [],
   "source": [
    "import kfp.compiler as compiler\n",
    "compiler.Compiler().compile(tfjob_pipeline, \"tfjob_pip.yaml\")"
   ]
  }
 ],
 "metadata": {
  "kernelspec": {
   "display_name": "Python 3",
   "language": "python",
   "name": "python3"
  },
  "kubeflow_notebook": {
   "autosnapshot": false,
   "docker_image": "gitlab-registry.cern.ch/ai-ml/kubeflow_images/tensorflow-notebook-gpu-2.1.0:v0.6.1-30",
   "experiment": {
    "id": "",
    "name": ""
   },
   "experiment_name": "",
   "katib_metadata": {
    "algorithm": {
     "algorithmName": "grid"
    },
    "maxFailedTrialCount": 3,
    "maxTrialCount": 12,
    "objective": {
     "objectiveMetricName": "",
     "type": "minimize"
    },
    "parallelTrialCount": 3,
    "parameters": []
   },
   "katib_run": false,
   "pipeline_description": "",
   "pipeline_name": "",
   "snapshot_volumes": false,
   "steps_defaults": [],
   "volume_access_mode": "rwm",
   "volumes": []
  },
  "language_info": {
   "codemirror_mode": {
    "name": "ipython",
    "version": 3
   },
   "file_extension": ".py",
   "mimetype": "text/x-python",
   "name": "python",
   "nbconvert_exporter": "python",
   "pygments_lexer": "ipython3",
   "version": "3.6.9"
  }
 },
 "nbformat": 4,
 "nbformat_minor": 4
}
