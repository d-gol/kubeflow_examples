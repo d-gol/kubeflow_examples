{
 "cells": [
  {
   "cell_type": "code",
   "execution_count": null,
   "metadata": {
    "tags": [
     "imports"
    ]
   },
   "outputs": [],
   "source": [
    "import tensorflow as tf\n",
    "import numpy as np\n",
    "import os"
   ]
  },
  {
   "cell_type": "code",
   "execution_count": null,
   "metadata": {
    "tags": [
     "pipeline-parameters"
    ]
   },
   "outputs": [],
   "source": [
    "nodes_number = 32\n",
    "learning_rate = 0.0001"
   ]
  },
  {
   "cell_type": "markdown",
   "metadata": {
    "colab_type": "text",
    "id": "j6331ZSsQGY3",
    "tags": []
   },
   "source": [
    "# MNIST classification"
   ]
  },
  {
   "cell_type": "code",
   "execution_count": null,
   "metadata": {
    "tags": [
     "block:read_data"
    ]
   },
   "outputs": [],
   "source": [
    "(x_train, y_train), (x_test, y_test) = tf.keras.datasets.mnist.load_data()\n",
    "x_train, x_test = x_train[..., np.newaxis]/255.0, x_test[..., np.newaxis]/255.0"
   ]
  },
  {
   "cell_type": "code",
   "execution_count": null,
   "metadata": {
    "tags": [
     "block:preprocess_data",
     "prev:read_data"
    ]
   },
   "outputs": [],
   "source": [
    "def filter_36(x, y):\n",
    "    keep = (y == 3) | (y == 6)\n",
    "    x, y = x[keep], y[keep]\n",
    "    y = y == 3\n",
    "    return x,y\n",
    "\n",
    "print(\"Number of unfiltered training examples:\", len(x_train))\n",
    "print(\"Number of unfiltered test examples:\", len(x_test))\n",
    "\n",
    "x_train, y_train = filter_36(x_train, y_train)\n",
    "x_test, y_test = filter_36(x_test, y_test)\n",
    "\n",
    "print(\"Number of filtered training examples:\", len(x_train))\n",
    "print(\"Number of filtered test examples:\", len(x_test))"
   ]
  },
  {
   "cell_type": "code",
   "execution_count": null,
   "metadata": {
    "tags": [
     "block:model_full",
     "prev:preprocess_data"
    ]
   },
   "outputs": [],
   "source": [
    "model_full = tf.keras.models.Sequential()\n",
    "model_full.add(tf.keras.layers.Conv2D(32, [3, 3], activation='relu', input_shape=(28,28,1)))\n",
    "model_full.add(tf.keras.layers.Conv2D(64, [3, 3], activation='relu'))\n",
    "model_full.add(tf.keras.layers.MaxPooling2D(pool_size=(2, 2)))\n",
    "model_full.add(tf.keras.layers.Dropout(0.25))\n",
    "model_full.add(tf.keras.layers.Flatten())\n",
    "\n",
    "model_full.add(tf.keras.layers.Dense(nodes_number, activation='relu'))\n",
    "model_full.add(tf.keras.layers.Dropout(0.5))\n",
    "model_full.add(tf.keras.layers.Dense(1))\n",
    "\n",
    "model_full.compile(loss='binary_crossentropy', optimizer=tf.keras.optimizers.Adam(learning_rate), metrics=['accuracy'])\n",
    "model_full.summary()\n",
    "\n",
    "model_full.fit(x_train, y_train, batch_size=256, epochs=1, verbose=1, validation_data=(x_test, y_test))\n",
    "model_full_test_acc = model_full.evaluate(x_test, y_test)[1]"
   ]
  },
  {
   "cell_type": "code",
   "execution_count": null,
   "metadata": {
    "tags": [
     "block:model_fair",
     "prev:preprocess_data"
    ]
   },
   "outputs": [],
   "source": [
    "model_fair = tf.keras.Sequential()\n",
    "model_fair.add(tf.keras.layers.Flatten(input_shape=(28,28,1)))\n",
    "model_fair.add(tf.keras.layers.Dense(2, activation='relu'))\n",
    "model_fair.add(tf.keras.layers.Dense(1))\n",
    "\n",
    "model_fair.compile(loss='binary_crossentropy', optimizer=tf.keras.optimizers.Adam(learning_rate), metrics=['accuracy'])\n",
    "model_fair.summary()\n",
    "\n",
    "model_fair.fit(x_train, y_train, batch_size=256, epochs=1, verbose=1, validation_data=(x_test, y_test))\n",
    "\n",
    "model_fair_test_acc = model_fair.evaluate(x_test, y_test)[1]"
   ]
  },
  {
   "cell_type": "code",
   "execution_count": null,
   "metadata": {
    "tags": [
     "block:models_evaluation",
     "prev:model_full",
     "prev:model_fair"
    ]
   },
   "outputs": [],
   "source": [
    "print('model_full_test_acc:', str(model_full_test_acc))\n",
    "print('model_fair_test_acc:', str(model_fair_test_acc))\n",
    "\n",
    "if model_full_test_acc > model_fair_test_acc:\n",
    "    print('Full model provided better result')\n",
    "    test_acc = model_full_test_acc\n",
    "else:\n",
    "    print('Fair model provided better result')\n",
    "    test_acc = model_fair_test_acc"
   ]
  },
  {
   "cell_type": "code",
   "execution_count": null,
   "metadata": {
    "tags": [
     "pipeline-metrics",
     "prev:model_full",
     "prev:model_fair"
    ]
   },
   "outputs": [],
   "source": [
    "print(test_acc)"
   ]
  },
  {
   "cell_type": "code",
   "execution_count": null,
   "metadata": {
    "tags": []
   },
   "outputs": [],
   "source": []
  }
 ],
 "metadata": {
  "kernelspec": {
   "display_name": "Python 3",
   "language": "python",
   "name": "python3"
  },
  "kubeflow_notebook": {
   "autosnapshot": false,
   "docker_image": "gitlab-registry.cern.ch/ai-ml/images/tensorflow-notebook-gpu-2.1.0:v0.6.1-30",
   "experiment": {
    "id": "new",
    "name": "demo-kale-new"
   },
   "experiment_name": "demo-kale-new",
   "katib_metadata": {
    "algorithm": {
     "algorithmName": "grid"
    },
    "maxFailedTrialCount": 1,
    "maxTrialCount": 4,
    "objective": {
     "additionalMetricNames": [],
     "goal": 0.99,
     "objectiveMetricName": "test-acc",
     "type": "maximize"
    },
    "parallelTrialCount": 1,
    "parameters": [
     {
      "feasibleSpace": {
       "list": [
        "32",
        "64",
        "256",
        "1024"
       ]
      },
      "name": "nodes_number",
      "parameterType": "categorical"
     },
     {
      "feasibleSpace": {
       "list": [
        "0.001",
        "0.01",
        "0.0001"
       ]
      },
      "name": "learning_rate",
      "parameterType": "categorical"
     },
     {
      "feasibleSpace": {},
      "name": "batch_size",
      "parameterType": "int"
     }
    ]
   },
   "katib_run": false,
   "pipeline_description": "Demo of Kale features",
   "pipeline_name": "demo-kale-new",
   "snapshot_volumes": false,
   "steps_defaults": [],
   "volumes": []
  },
  "language_info": {
   "codemirror_mode": {
    "name": "ipython",
    "version": 3
   },
   "file_extension": ".py",
   "mimetype": "text/x-python",
   "name": "python",
   "nbconvert_exporter": "python",
   "pygments_lexer": "ipython3",
   "version": "3.6.9"
  }
 },
 "nbformat": 4,
 "nbformat_minor": 4
}
